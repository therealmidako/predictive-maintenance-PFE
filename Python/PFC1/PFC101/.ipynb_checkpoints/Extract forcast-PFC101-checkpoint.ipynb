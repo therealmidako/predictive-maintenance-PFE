{
 "cells": [
  {
   "cell_type": "code",
   "execution_count": 1,
   "id": "c57b2e4c",
   "metadata": {},
   "outputs": [],
   "source": [
    "import pandas as pd\n",
    "import numpy as np \n",
    "import matplotlib.pyplot as plt"
   ]
  },
  {
   "cell_type": "code",
   "execution_count": 2,
   "id": "d393f2e0",
   "metadata": {},
   "outputs": [],
   "source": [
    "\n",
    "df=pd.read_csv('./Nombre_de_pannes_pfc1.csv', encoding='latin-1',sep=\";\", parse_dates=True)\n",
    "df = df.rename(columns={'Earliest Date': 'Date début', 'Count of Ordre de travail': 'Number of Orders'})"
   ]
  },
  {
   "cell_type": "code",
   "execution_count": 3,
   "id": "d7941e1a",
   "metadata": {},
   "outputs": [],
   "source": [
    "df.to_csv('Nombre_de_pannes_pfc1.csv', index=False, encoding='latin-1',sep=\";\") "
   ]
  },
  {
   "cell_type": "code",
   "execution_count": 4,
   "id": "d1bcb121",
   "metadata": {},
   "outputs": [],
   "source": [
    "df=pd.read_csv('./Nombre_de_pannes_pfc1.csv', encoding='latin-1',sep=\";\", parse_dates=True)"
   ]
  },
  {
   "cell_type": "code",
   "execution_count": 5,
   "id": "d704afad",
   "metadata": {},
   "outputs": [],
   "source": [
    "df['Date début'] = pd.to_datetime(df['Date début'])\n",
    "df.index = df['Date début']\n",
    "del df['Date début']\n",
    "df.to_csv('Nombre_de_pannes_pfc1.csv', index=True, encoding='latin-1',sep=\";\") \n",
    "df=pd.read_csv('./Nombre_de_pannes_pfc1.csv', encoding='latin-1',sep=\";\",index_col=\"Date début\", parse_dates=True)"
   ]
  },
  {
   "cell_type": "code",
   "execution_count": 6,
   "id": "aa778a9b",
   "metadata": {
    "scrolled": true
   },
   "outputs": [
    {
     "data": {
      "text/html": [
       "<div>\n",
       "<style scoped>\n",
       "    .dataframe tbody tr th:only-of-type {\n",
       "        vertical-align: middle;\n",
       "    }\n",
       "\n",
       "    .dataframe tbody tr th {\n",
       "        vertical-align: top;\n",
       "    }\n",
       "\n",
       "    .dataframe thead th {\n",
       "        text-align: right;\n",
       "    }\n",
       "</style>\n",
       "<table border=\"1\" class=\"dataframe\">\n",
       "  <thead>\n",
       "    <tr style=\"text-align: right;\">\n",
       "      <th></th>\n",
       "      <th>Number of Orders</th>\n",
       "    </tr>\n",
       "    <tr>\n",
       "      <th>Date début</th>\n",
       "      <th></th>\n",
       "    </tr>\n",
       "  </thead>\n",
       "  <tbody>\n",
       "    <tr>\n",
       "      <th>2019-01-01</th>\n",
       "      <td>5</td>\n",
       "    </tr>\n",
       "    <tr>\n",
       "      <th>2019-01-02</th>\n",
       "      <td>2</td>\n",
       "    </tr>\n",
       "    <tr>\n",
       "      <th>2019-01-03</th>\n",
       "      <td>3</td>\n",
       "    </tr>\n",
       "    <tr>\n",
       "      <th>2019-01-04</th>\n",
       "      <td>5</td>\n",
       "    </tr>\n",
       "    <tr>\n",
       "      <th>2019-01-05</th>\n",
       "      <td>2</td>\n",
       "    </tr>\n",
       "  </tbody>\n",
       "</table>\n",
       "</div>"
      ],
      "text/plain": [
       "            Number of Orders\n",
       "Date début                  \n",
       "2019-01-01                 5\n",
       "2019-01-02                 2\n",
       "2019-01-03                 3\n",
       "2019-01-04                 5\n",
       "2019-01-05                 2"
      ]
     },
     "execution_count": 6,
     "metadata": {},
     "output_type": "execute_result"
    }
   ],
   "source": [
    "df.head()"
   ]
  },
  {
   "cell_type": "code",
   "execution_count": 7,
   "id": "66af479d",
   "metadata": {},
   "outputs": [
    {
     "data": {
      "text/html": [
       "<div>\n",
       "<style scoped>\n",
       "    .dataframe tbody tr th:only-of-type {\n",
       "        vertical-align: middle;\n",
       "    }\n",
       "\n",
       "    .dataframe tbody tr th {\n",
       "        vertical-align: top;\n",
       "    }\n",
       "\n",
       "    .dataframe thead th {\n",
       "        text-align: right;\n",
       "    }\n",
       "</style>\n",
       "<table border=\"1\" class=\"dataframe\">\n",
       "  <thead>\n",
       "    <tr style=\"text-align: right;\">\n",
       "      <th></th>\n",
       "      <th>Number of Orders</th>\n",
       "    </tr>\n",
       "    <tr>\n",
       "      <th>Date début</th>\n",
       "      <th></th>\n",
       "    </tr>\n",
       "  </thead>\n",
       "  <tbody>\n",
       "    <tr>\n",
       "      <th>2022-03-03</th>\n",
       "      <td>1</td>\n",
       "    </tr>\n",
       "    <tr>\n",
       "      <th>2022-03-04</th>\n",
       "      <td>1</td>\n",
       "    </tr>\n",
       "    <tr>\n",
       "      <th>2022-03-07</th>\n",
       "      <td>2</td>\n",
       "    </tr>\n",
       "    <tr>\n",
       "      <th>2022-03-08</th>\n",
       "      <td>3</td>\n",
       "    </tr>\n",
       "    <tr>\n",
       "      <th>2022-03-09</th>\n",
       "      <td>3</td>\n",
       "    </tr>\n",
       "  </tbody>\n",
       "</table>\n",
       "</div>"
      ],
      "text/plain": [
       "            Number of Orders\n",
       "Date début                  \n",
       "2022-03-03                 1\n",
       "2022-03-04                 1\n",
       "2022-03-07                 2\n",
       "2022-03-08                 3\n",
       "2022-03-09                 3"
      ]
     },
     "execution_count": 7,
     "metadata": {},
     "output_type": "execute_result"
    }
   ],
   "source": [
    "df.tail()"
   ]
  },
  {
   "cell_type": "code",
   "execution_count": 8,
   "id": "603bf8da",
   "metadata": {
    "scrolled": false
   },
   "outputs": [
    {
     "data": {
      "text/plain": [
       "DatetimeIndex(['2019-01-01', '2019-01-02', '2019-01-03', '2019-01-04',\n",
       "               '2019-01-05', '2019-01-06', '2019-01-07', '2019-01-08',\n",
       "               '2019-01-09', '2019-01-10',\n",
       "               ...\n",
       "               '2022-02-28', '2022-03-01', '2022-03-02', '2022-03-03',\n",
       "               '2022-03-04', '2022-03-05', '2022-03-06', '2022-03-07',\n",
       "               '2022-03-08', '2022-03-09'],\n",
       "              dtype='datetime64[ns]', name='Date début', length=1164, freq='D')"
      ]
     },
     "execution_count": 8,
     "metadata": {},
     "output_type": "execute_result"
    }
   ],
   "source": [
    "df=df.asfreq(\"D\")\n",
    "\n",
    "df.index"
   ]
  },
  {
   "cell_type": "code",
   "execution_count": 9,
   "id": "8f794ba2",
   "metadata": {},
   "outputs": [],
   "source": [
    "df=df.fillna(0)"
   ]
  },
  {
   "cell_type": "code",
   "execution_count": 10,
   "id": "d924f5a2",
   "metadata": {},
   "outputs": [
    {
     "data": {
      "text/html": [
       "<div>\n",
       "<style scoped>\n",
       "    .dataframe tbody tr th:only-of-type {\n",
       "        vertical-align: middle;\n",
       "    }\n",
       "\n",
       "    .dataframe tbody tr th {\n",
       "        vertical-align: top;\n",
       "    }\n",
       "\n",
       "    .dataframe thead th {\n",
       "        text-align: right;\n",
       "    }\n",
       "</style>\n",
       "<table border=\"1\" class=\"dataframe\">\n",
       "  <thead>\n",
       "    <tr style=\"text-align: right;\">\n",
       "      <th></th>\n",
       "      <th>Number of Orders</th>\n",
       "    </tr>\n",
       "    <tr>\n",
       "      <th>Date début</th>\n",
       "      <th></th>\n",
       "    </tr>\n",
       "  </thead>\n",
       "  <tbody>\n",
       "    <tr>\n",
       "      <th>2022-03-05</th>\n",
       "      <td>0.0</td>\n",
       "    </tr>\n",
       "    <tr>\n",
       "      <th>2022-03-06</th>\n",
       "      <td>0.0</td>\n",
       "    </tr>\n",
       "    <tr>\n",
       "      <th>2022-03-07</th>\n",
       "      <td>2.0</td>\n",
       "    </tr>\n",
       "    <tr>\n",
       "      <th>2022-03-08</th>\n",
       "      <td>3.0</td>\n",
       "    </tr>\n",
       "    <tr>\n",
       "      <th>2022-03-09</th>\n",
       "      <td>3.0</td>\n",
       "    </tr>\n",
       "  </tbody>\n",
       "</table>\n",
       "</div>"
      ],
      "text/plain": [
       "            Number of Orders\n",
       "Date début                  \n",
       "2022-03-05               0.0\n",
       "2022-03-06               0.0\n",
       "2022-03-07               2.0\n",
       "2022-03-08               3.0\n",
       "2022-03-09               3.0"
      ]
     },
     "execution_count": 10,
     "metadata": {},
     "output_type": "execute_result"
    }
   ],
   "source": [
    "df.tail()"
   ]
  },
  {
   "cell_type": "code",
   "execution_count": 11,
   "id": "2e4086e4",
   "metadata": {},
   "outputs": [
    {
     "name": "stdout",
     "output_type": "stream",
     "text": [
      "                               SARIMAX Results                                \n",
      "==============================================================================\n",
      "Dep. Variable:       Number of Orders   No. Observations:                 1164\n",
      "Model:                 ARIMA(5, 1, 6)   Log Likelihood               -2186.429\n",
      "Date:                Thu, 30 May 2024   AIC                           4396.858\n",
      "Time:                        23:01:52   BIC                           4457.563\n",
      "Sample:                    01-01-2019   HQIC                          4419.761\n",
      "                         - 03-09-2022                                         \n",
      "Covariance Type:                  opg                                         \n",
      "==============================================================================\n",
      "                 coef    std err          z      P>|z|      [0.025      0.975]\n",
      "------------------------------------------------------------------------------\n",
      "ar.L1         -0.1957      0.039     -5.011      0.000      -0.272      -0.119\n",
      "ar.L2         -0.6179      0.034    -18.022      0.000      -0.685      -0.551\n",
      "ar.L3         -0.6234      0.048    -12.937      0.000      -0.718      -0.529\n",
      "ar.L4         -0.2273      0.033     -6.880      0.000      -0.292      -0.163\n",
      "ar.L5         -0.9508      0.039    -24.623      0.000      -1.026      -0.875\n",
      "ma.L1         -0.7341      0.038    -19.144      0.000      -0.809      -0.659\n",
      "ma.L2          0.3880      0.060      6.518      0.000       0.271       0.505\n",
      "ma.L3          0.0579      0.066      0.878      0.380      -0.071       0.187\n",
      "ma.L4         -0.3457      0.064     -5.442      0.000      -0.470      -0.221\n",
      "ma.L5          0.7249      0.056     12.972      0.000       0.615       0.834\n",
      "ma.L6         -0.8914      0.035    -25.633      0.000      -0.960      -0.823\n",
      "sigma2         2.5502      0.081     31.448      0.000       2.391       2.709\n",
      "===================================================================================\n",
      "Ljung-Box (L1) (Q):                   2.65   Jarque-Bera (JB):               502.06\n",
      "Prob(Q):                              0.10   Prob(JB):                         0.00\n",
      "Heteroskedasticity (H):               0.47   Skew:                             1.09\n",
      "Prob(H) (two-sided):                  0.00   Kurtosis:                         5.36\n",
      "===================================================================================\n",
      "\n",
      "Warnings:\n",
      "[1] Covariance matrix calculated using the outer product of gradients (complex-step).\n"
     ]
    },
    {
     "name": "stderr",
     "output_type": "stream",
     "text": [
      "C:\\Users\\mahdi\\anaconda3\\lib\\site-packages\\statsmodels\\base\\model.py:607: ConvergenceWarning: Maximum Likelihood optimization failed to converge. Check mle_retvals\n",
      "  warnings.warn(\"Maximum Likelihood optimization failed to \"\n"
     ]
    }
   ],
   "source": [
    "from statsmodels.tsa.arima.model import ARIMA\n",
    "model = ARIMA(df, order=(5,1,6))\n",
    "model_fit = model.fit()\n",
    "print(model_fit.summary())"
   ]
  },
  {
   "cell_type": "code",
   "execution_count": 12,
   "id": "f2746fef",
   "metadata": {},
   "outputs": [
    {
     "data": {
      "text/plain": [
       "<AxesSubplot:>"
      ]
     },
     "execution_count": 12,
     "metadata": {},
     "output_type": "execute_result"
    },
    {
     "data": {
      "image/png": "[encoded data removed]",
      "text/plain": [
       "<Figure size 432x288 with 1 Axes>"
      ]
     },
     "metadata": {
      "needs_background": "light"
     },
     "output_type": "display_data"
    }
   ],
   "source": [
    "forecast_test = model_fit.forecast(30)\n",
    "\n",
    "df1= forecast_test\n",
    "\n",
    "df1.plot()"
   ]
  },
  {
   "cell_type": "code",
   "execution_count": 13,
   "id": "4ac7e4ee",
   "metadata": {},
   "outputs": [
    {
     "data": {
      "text/plain": [
       "2022-04-04    1.743418\n",
       "2022-04-05    1.803283\n",
       "2022-04-06    1.807666\n",
       "2022-04-07    1.659386\n",
       "2022-04-08    1.321031\n",
       "Freq: D, Name: predicted_mean, dtype: float64"
      ]
     },
     "execution_count": 13,
     "metadata": {},
     "output_type": "execute_result"
    }
   ],
   "source": [
    "df1.tail()"
   ]
  },
  {
   "cell_type": "code",
   "execution_count": 14,
   "id": "ef23579c",
   "metadata": {
    "scrolled": false
   },
   "outputs": [],
   "source": [
    "df1.to_csv('forcast_PFC1.csv', index=True, encoding='latin-1',sep=\";\") "
   ]
  },
  {
   "cell_type": "code",
   "execution_count": 15,
   "id": "e27f3f43",
   "metadata": {},
   "outputs": [],
   "source": [
    "df=pd.read_csv('./forcast_PFC1.csv', encoding='latin-1',sep=\";\")"
   ]
  },
  {
   "cell_type": "code",
   "execution_count": 16,
   "id": "71143478",
   "metadata": {},
   "outputs": [
    {
     "data": {
      "text/html": [
       "<div>\n",
       "<style scoped>\n",
       "    .dataframe tbody tr th:only-of-type {\n",
       "        vertical-align: middle;\n",
       "    }\n",
       "\n",
       "    .dataframe tbody tr th {\n",
       "        vertical-align: top;\n",
       "    }\n",
       "\n",
       "    .dataframe thead th {\n",
       "        text-align: right;\n",
       "    }\n",
       "</style>\n",
       "<table border=\"1\" class=\"dataframe\">\n",
       "  <thead>\n",
       "    <tr style=\"text-align: right;\">\n",
       "      <th></th>\n",
       "      <th>Unnamed: 0</th>\n",
       "      <th>predicted_mean</th>\n",
       "    </tr>\n",
       "  </thead>\n",
       "  <tbody>\n",
       "    <tr>\n",
       "      <th>0</th>\n",
       "      <td>2022-03-10</td>\n",
       "      <td>1.674528</td>\n",
       "    </tr>\n",
       "    <tr>\n",
       "      <th>1</th>\n",
       "      <td>2022-03-11</td>\n",
       "      <td>1.356523</td>\n",
       "    </tr>\n",
       "    <tr>\n",
       "      <th>2</th>\n",
       "      <td>2022-03-12</td>\n",
       "      <td>1.038082</td>\n",
       "    </tr>\n",
       "    <tr>\n",
       "      <th>3</th>\n",
       "      <td>2022-03-13</td>\n",
       "      <td>1.372592</td>\n",
       "    </tr>\n",
       "    <tr>\n",
       "      <th>4</th>\n",
       "      <td>2022-03-14</td>\n",
       "      <td>1.767925</td>\n",
       "    </tr>\n",
       "  </tbody>\n",
       "</table>\n",
       "</div>"
      ],
      "text/plain": [
       "   Unnamed: 0  predicted_mean\n",
       "0  2022-03-10        1.674528\n",
       "1  2022-03-11        1.356523\n",
       "2  2022-03-12        1.038082\n",
       "3  2022-03-13        1.372592\n",
       "4  2022-03-14        1.767925"
      ]
     },
     "execution_count": 16,
     "metadata": {},
     "output_type": "execute_result"
    }
   ],
   "source": [
    "df.head()"
   ]
  },
  {
   "cell_type": "code",
   "execution_count": 17,
   "id": "b30bc0b7",
   "metadata": {},
   "outputs": [],
   "source": [
    "df.rename(columns={'Unnamed: 0':'date'}, inplace=True)"
   ]
  },
  {
   "cell_type": "code",
   "execution_count": 18,
   "id": "39f7321b",
   "metadata": {},
   "outputs": [],
   "source": [
    "df.rename(columns={'predicted_mean':'arima-man'}, inplace=True)"
   ]
  },
  {
   "cell_type": "code",
   "execution_count": 19,
   "id": "9c94c68c",
   "metadata": {},
   "outputs": [
    {
     "data": {
      "text/html": [
       "<div>\n",
       "<style scoped>\n",
       "    .dataframe tbody tr th:only-of-type {\n",
       "        vertical-align: middle;\n",
       "    }\n",
       "\n",
       "    .dataframe tbody tr th {\n",
       "        vertical-align: top;\n",
       "    }\n",
       "\n",
       "    .dataframe thead th {\n",
       "        text-align: right;\n",
       "    }\n",
       "</style>\n",
       "<table border=\"1\" class=\"dataframe\">\n",
       "  <thead>\n",
       "    <tr style=\"text-align: right;\">\n",
       "      <th></th>\n",
       "      <th>date</th>\n",
       "      <th>arima-man</th>\n",
       "    </tr>\n",
       "  </thead>\n",
       "  <tbody>\n",
       "    <tr>\n",
       "      <th>0</th>\n",
       "      <td>2022-03-10</td>\n",
       "      <td>1.674528</td>\n",
       "    </tr>\n",
       "    <tr>\n",
       "      <th>1</th>\n",
       "      <td>2022-03-11</td>\n",
       "      <td>1.356523</td>\n",
       "    </tr>\n",
       "    <tr>\n",
       "      <th>2</th>\n",
       "      <td>2022-03-12</td>\n",
       "      <td>1.038082</td>\n",
       "    </tr>\n",
       "    <tr>\n",
       "      <th>3</th>\n",
       "      <td>2022-03-13</td>\n",
       "      <td>1.372592</td>\n",
       "    </tr>\n",
       "    <tr>\n",
       "      <th>4</th>\n",
       "      <td>2022-03-14</td>\n",
       "      <td>1.767925</td>\n",
       "    </tr>\n",
       "  </tbody>\n",
       "</table>\n",
       "</div>"
      ],
      "text/plain": [
       "         date  arima-man\n",
       "0  2022-03-10   1.674528\n",
       "1  2022-03-11   1.356523\n",
       "2  2022-03-12   1.038082\n",
       "3  2022-03-13   1.372592\n",
       "4  2022-03-14   1.767925"
      ]
     },
     "execution_count": 19,
     "metadata": {},
     "output_type": "execute_result"
    }
   ],
   "source": [
    "df.head()"
   ]
  },
  {
   "cell_type": "code",
   "execution_count": 20,
   "id": "d942cd5f",
   "metadata": {},
   "outputs": [],
   "source": [
    "df.to_csv('forcast_PFC1.csv', index=False, encoding='latin-1',sep=\";\") "
   ]
  },
  {
   "cell_type": "code",
   "execution_count": 21,
   "id": "efb7bc51",
   "metadata": {},
   "outputs": [],
   "source": [
    "df=pd.read_csv('./forcast_PFC1.csv', encoding='latin-1',sep=\";\",index_col=\"date\", parse_dates=True)"
   ]
  },
  {
   "cell_type": "code",
   "execution_count": 22,
   "id": "b69de52c",
   "metadata": {},
   "outputs": [],
   "source": [
    "df1=pd.read_csv('./Nombre_de_pannes_pfc1.csv', encoding='latin-1',sep=\";\",index_col=\"Date début\", parse_dates=True)"
   ]
  },
  {
   "cell_type": "code",
   "execution_count": 23,
   "id": "23afccbc",
   "metadata": {},
   "outputs": [
    {
     "data": {
      "text/html": [
       "<div>\n",
       "<style scoped>\n",
       "    .dataframe tbody tr th:only-of-type {\n",
       "        vertical-align: middle;\n",
       "    }\n",
       "\n",
       "    .dataframe tbody tr th {\n",
       "        vertical-align: top;\n",
       "    }\n",
       "\n",
       "    .dataframe thead th {\n",
       "        text-align: right;\n",
       "    }\n",
       "</style>\n",
       "<table border=\"1\" class=\"dataframe\">\n",
       "  <thead>\n",
       "    <tr style=\"text-align: right;\">\n",
       "      <th></th>\n",
       "      <th>Number of Orders</th>\n",
       "    </tr>\n",
       "    <tr>\n",
       "      <th>Date début</th>\n",
       "      <th></th>\n",
       "    </tr>\n",
       "  </thead>\n",
       "  <tbody>\n",
       "    <tr>\n",
       "      <th>2019-01-01</th>\n",
       "      <td>5</td>\n",
       "    </tr>\n",
       "    <tr>\n",
       "      <th>2019-01-02</th>\n",
       "      <td>2</td>\n",
       "    </tr>\n",
       "    <tr>\n",
       "      <th>2019-01-03</th>\n",
       "      <td>3</td>\n",
       "    </tr>\n",
       "    <tr>\n",
       "      <th>2019-01-04</th>\n",
       "      <td>5</td>\n",
       "    </tr>\n",
       "    <tr>\n",
       "      <th>2019-01-05</th>\n",
       "      <td>2</td>\n",
       "    </tr>\n",
       "  </tbody>\n",
       "</table>\n",
       "</div>"
      ],
      "text/plain": [
       "            Number of Orders\n",
       "Date début                  \n",
       "2019-01-01                 5\n",
       "2019-01-02                 2\n",
       "2019-01-03                 3\n",
       "2019-01-04                 5\n",
       "2019-01-05                 2"
      ]
     },
     "execution_count": 23,
     "metadata": {},
     "output_type": "execute_result"
    }
   ],
   "source": [
    "df1.head()"
   ]
  },
  {
   "cell_type": "code",
   "execution_count": 24,
   "id": "0e18b275",
   "metadata": {},
   "outputs": [],
   "source": [
    "import pmdarima as pm\n",
    "sarima= pm.auto_arima(df1, m=7)"
   ]
  },
  {
   "cell_type": "code",
   "execution_count": 25,
   "id": "28918d8b",
   "metadata": {},
   "outputs": [
    {
     "name": "stderr",
     "output_type": "stream",
     "text": [
      "C:\\Users\\mahdi\\anaconda3\\lib\\site-packages\\statsmodels\\tsa\\base\\tsa_model.py:836: ValueWarning: No supported index is available. Prediction results will be given with an integer index beginning at `start`.\n",
      "  return get_prediction_index(\n",
      "C:\\Users\\mahdi\\anaconda3\\lib\\site-packages\\statsmodels\\tsa\\base\\tsa_model.py:836: FutureWarning: No supported index is available. In the next version, calling this method in a model without a supported index will result in an exception.\n",
      "  return get_prediction_index(\n"
     ]
    },
    {
     "data": {
      "text/plain": [
       "<AxesSubplot:xlabel='date'>"
      ]
     },
     "execution_count": 25,
     "metadata": {},
     "output_type": "execute_result"
    },
    {
     "data": {
      "image/png": "[encoded data removed]",
      "text/plain": [
       "<Figure size 432x288 with 1 Axes>"
      ]
     },
     "metadata": {
      "needs_background": "light"
     },
     "output_type": "display_data"
    }
   ],
   "source": [
    "forecast_sarima = sarima.predict(n_periods=len(df))\n",
    "df['sarima'] = list(forecast_sarima)\n",
    "\n",
    "df.plot()"
   ]
  },
  {
   "cell_type": "code",
   "execution_count": 26,
   "id": "ce2ab6d1",
   "metadata": {},
   "outputs": [],
   "source": [
    "from statsmodels.tsa.holtwinters import SimpleExpSmoothing"
   ]
  },
  {
   "cell_type": "code",
   "execution_count": 27,
   "id": "1ab7db12",
   "metadata": {},
   "outputs": [],
   "source": [
    "ses= SimpleExpSmoothing(np.asarray(df1['Number of Orders']))"
   ]
  },
  {
   "cell_type": "code",
   "execution_count": 28,
   "id": "8c755129",
   "metadata": {},
   "outputs": [],
   "source": [
    "ses_fit=ses.fit(optimized=True)"
   ]
  },
  {
   "cell_type": "code",
   "execution_count": 29,
   "id": "248ed43e",
   "metadata": {
    "scrolled": true
   },
   "outputs": [
    {
     "data": {
      "text/plain": [
       "<AxesSubplot:xlabel='date'>"
      ]
     },
     "execution_count": 29,
     "metadata": {},
     "output_type": "execute_result"
    },
    {
     "data": {
      "image/png": "[encoded data removed]",
      "text/plain": [
       "<Figure size 432x288 with 1 Axes>"
      ]
     },
     "metadata": {
      "needs_background": "light"
     },
     "output_type": "display_data"
    }
   ],
   "source": [
    "y_pred= ses_fit.forecast(len(df))\n",
    "df['ses'] = list(y_pred)\n",
    "df.plot()"
   ]
  },
  {
   "cell_type": "code",
   "execution_count": 30,
   "id": "165da015",
   "metadata": {},
   "outputs": [],
   "source": [
    "from xgboost import XGBRegressor"
   ]
  },
  {
   "cell_type": "code",
   "execution_count": 31,
   "id": "955f98b5",
   "metadata": {},
   "outputs": [],
   "source": [
    "xg_reg=XGBRegressor()"
   ]
  },
  {
   "cell_type": "code",
   "execution_count": 32,
   "id": "87cdb2b5",
   "metadata": {},
   "outputs": [],
   "source": [
    "df3=pd.read_csv('./forcast_PFC1.csv', encoding='latin-1',sep=\";\",index_col=\"date\", parse_dates=True)"
   ]
  },
  {
   "cell_type": "code",
   "execution_count": 33,
   "id": "439a61d6",
   "metadata": {},
   "outputs": [
    {
     "data": {
      "text/html": [
       "<div>\n",
       "<style scoped>\n",
       "    .dataframe tbody tr th:only-of-type {\n",
       "        vertical-align: middle;\n",
       "    }\n",
       "\n",
       "    .dataframe tbody tr th {\n",
       "        vertical-align: top;\n",
       "    }\n",
       "\n",
       "    .dataframe thead th {\n",
       "        text-align: right;\n",
       "    }\n",
       "</style>\n",
       "<table border=\"1\" class=\"dataframe\">\n",
       "  <thead>\n",
       "    <tr style=\"text-align: right;\">\n",
       "      <th></th>\n",
       "      <th>arima-man</th>\n",
       "    </tr>\n",
       "    <tr>\n",
       "      <th>date</th>\n",
       "      <th></th>\n",
       "    </tr>\n",
       "  </thead>\n",
       "  <tbody>\n",
       "    <tr>\n",
       "      <th>2022-03-10</th>\n",
       "      <td>1.674528</td>\n",
       "    </tr>\n",
       "    <tr>\n",
       "      <th>2022-03-11</th>\n",
       "      <td>1.356523</td>\n",
       "    </tr>\n",
       "    <tr>\n",
       "      <th>2022-03-12</th>\n",
       "      <td>1.038082</td>\n",
       "    </tr>\n",
       "    <tr>\n",
       "      <th>2022-03-13</th>\n",
       "      <td>1.372592</td>\n",
       "    </tr>\n",
       "    <tr>\n",
       "      <th>2022-03-14</th>\n",
       "      <td>1.767925</td>\n",
       "    </tr>\n",
       "  </tbody>\n",
       "</table>\n",
       "</div>"
      ],
      "text/plain": [
       "            arima-man\n",
       "date                 \n",
       "2022-03-10   1.674528\n",
       "2022-03-11   1.356523\n",
       "2022-03-12   1.038082\n",
       "2022-03-13   1.372592\n",
       "2022-03-14   1.767925"
      ]
     },
     "execution_count": 33,
     "metadata": {},
     "output_type": "execute_result"
    }
   ],
   "source": [
    "df3.head()"
   ]
  },
  {
   "cell_type": "code",
   "execution_count": 34,
   "id": "f195fd3d",
   "metadata": {},
   "outputs": [],
   "source": [
    "df1.insert(0,'null','')\n",
    "df1['null'] = 0\n",
    "df3.insert(0,'null','')\n",
    "df3['null'] = 0"
   ]
  },
  {
   "cell_type": "code",
   "execution_count": 35,
   "id": "01acf94e",
   "metadata": {},
   "outputs": [],
   "source": [
    "xg_fit=xg_reg.fit(df1.drop(['Number of Orders'], axis=1),df1['Number of Orders'])"
   ]
  },
  {
   "cell_type": "code",
   "execution_count": 36,
   "id": "a2279aa3",
   "metadata": {},
   "outputs": [],
   "source": [
    " y_pred=xg_fit.predict(df3.drop(['arima-man'], axis=1))"
   ]
  },
  {
   "cell_type": "code",
   "execution_count": 37,
   "id": "6dab6cff",
   "metadata": {},
   "outputs": [],
   "source": [
    "df['xgboost'] =  list(y_pred)"
   ]
  },
  {
   "cell_type": "code",
   "execution_count": 38,
   "id": "d8f54997",
   "metadata": {},
   "outputs": [
    {
     "data": {
      "text/html": [
       "<div>\n",
       "<style scoped>\n",
       "    .dataframe tbody tr th:only-of-type {\n",
       "        vertical-align: middle;\n",
       "    }\n",
       "\n",
       "    .dataframe tbody tr th {\n",
       "        vertical-align: top;\n",
       "    }\n",
       "\n",
       "    .dataframe thead th {\n",
       "        text-align: right;\n",
       "    }\n",
       "</style>\n",
       "<table border=\"1\" class=\"dataframe\">\n",
       "  <thead>\n",
       "    <tr style=\"text-align: right;\">\n",
       "      <th></th>\n",
       "      <th>arima-man</th>\n",
       "      <th>sarima</th>\n",
       "      <th>ses</th>\n",
       "      <th>xgboost</th>\n",
       "    </tr>\n",
       "    <tr>\n",
       "      <th>date</th>\n",
       "      <th></th>\n",
       "      <th></th>\n",
       "      <th></th>\n",
       "      <th></th>\n",
       "    </tr>\n",
       "  </thead>\n",
       "  <tbody>\n",
       "    <tr>\n",
       "      <th>2022-03-10</th>\n",
       "      <td>1.674528</td>\n",
       "      <td>2.199927</td>\n",
       "      <td>2.119483</td>\n",
       "      <td>2.486874</td>\n",
       "    </tr>\n",
       "    <tr>\n",
       "      <th>2022-03-11</th>\n",
       "      <td>1.356523</td>\n",
       "      <td>2.088737</td>\n",
       "      <td>2.119483</td>\n",
       "      <td>2.486874</td>\n",
       "    </tr>\n",
       "    <tr>\n",
       "      <th>2022-03-12</th>\n",
       "      <td>1.038082</td>\n",
       "      <td>2.088737</td>\n",
       "      <td>2.119483</td>\n",
       "      <td>2.486874</td>\n",
       "    </tr>\n",
       "    <tr>\n",
       "      <th>2022-03-13</th>\n",
       "      <td>1.372592</td>\n",
       "      <td>2.088737</td>\n",
       "      <td>2.119483</td>\n",
       "      <td>2.486874</td>\n",
       "    </tr>\n",
       "    <tr>\n",
       "      <th>2022-03-14</th>\n",
       "      <td>1.767925</td>\n",
       "      <td>2.088737</td>\n",
       "      <td>2.119483</td>\n",
       "      <td>2.486874</td>\n",
       "    </tr>\n",
       "  </tbody>\n",
       "</table>\n",
       "</div>"
      ],
      "text/plain": [
       "            arima-man    sarima       ses   xgboost\n",
       "date                                               \n",
       "2022-03-10   1.674528  2.199927  2.119483  2.486874\n",
       "2022-03-11   1.356523  2.088737  2.119483  2.486874\n",
       "2022-03-12   1.038082  2.088737  2.119483  2.486874\n",
       "2022-03-13   1.372592  2.088737  2.119483  2.486874\n",
       "2022-03-14   1.767925  2.088737  2.119483  2.486874"
      ]
     },
     "execution_count": 38,
     "metadata": {},
     "output_type": "execute_result"
    }
   ],
   "source": [
    "df.head()"
   ]
  },
  {
   "cell_type": "code",
   "execution_count": 39,
   "id": "5a2fd58b",
   "metadata": {},
   "outputs": [],
   "source": [
    "df.to_csv('forcast_PFC1.csv', index=True, encoding='latin-1',sep=\";\") "
   ]
  },
  {
   "cell_type": "code",
   "execution_count": 40,
   "id": "8782e1e1",
   "metadata": {},
   "outputs": [],
   "source": [
    "df=pd.read_csv('./forcast_PFC1.csv', encoding='latin-1',sep=\";\",index_col=\"date\", parse_dates=True)"
   ]
  },
  {
   "cell_type": "code",
   "execution_count": 41,
   "id": "4b08525b",
   "metadata": {},
   "outputs": [
    {
     "data": {
      "text/html": [
       "<div>\n",
       "<style scoped>\n",
       "    .dataframe tbody tr th:only-of-type {\n",
       "        vertical-align: middle;\n",
       "    }\n",
       "\n",
       "    .dataframe tbody tr th {\n",
       "        vertical-align: top;\n",
       "    }\n",
       "\n",
       "    .dataframe thead th {\n",
       "        text-align: right;\n",
       "    }\n",
       "</style>\n",
       "<table border=\"1\" class=\"dataframe\">\n",
       "  <thead>\n",
       "    <tr style=\"text-align: right;\">\n",
       "      <th></th>\n",
       "      <th>arima-man</th>\n",
       "      <th>sarima</th>\n",
       "      <th>ses</th>\n",
       "      <th>xgboost</th>\n",
       "    </tr>\n",
       "    <tr>\n",
       "      <th>date</th>\n",
       "      <th></th>\n",
       "      <th></th>\n",
       "      <th></th>\n",
       "      <th></th>\n",
       "    </tr>\n",
       "  </thead>\n",
       "  <tbody>\n",
       "    <tr>\n",
       "      <th>2022-03-10</th>\n",
       "      <td>1.674528</td>\n",
       "      <td>2.199927</td>\n",
       "      <td>2.119483</td>\n",
       "      <td>2.486874</td>\n",
       "    </tr>\n",
       "    <tr>\n",
       "      <th>2022-03-11</th>\n",
       "      <td>1.356523</td>\n",
       "      <td>2.088737</td>\n",
       "      <td>2.119483</td>\n",
       "      <td>2.486874</td>\n",
       "    </tr>\n",
       "    <tr>\n",
       "      <th>2022-03-12</th>\n",
       "      <td>1.038082</td>\n",
       "      <td>2.088737</td>\n",
       "      <td>2.119483</td>\n",
       "      <td>2.486874</td>\n",
       "    </tr>\n",
       "    <tr>\n",
       "      <th>2022-03-13</th>\n",
       "      <td>1.372592</td>\n",
       "      <td>2.088737</td>\n",
       "      <td>2.119483</td>\n",
       "      <td>2.486874</td>\n",
       "    </tr>\n",
       "    <tr>\n",
       "      <th>2022-03-14</th>\n",
       "      <td>1.767925</td>\n",
       "      <td>2.088737</td>\n",
       "      <td>2.119483</td>\n",
       "      <td>2.486874</td>\n",
       "    </tr>\n",
       "  </tbody>\n",
       "</table>\n",
       "</div>"
      ],
      "text/plain": [
       "            arima-man    sarima       ses   xgboost\n",
       "date                                               \n",
       "2022-03-10   1.674528  2.199927  2.119483  2.486874\n",
       "2022-03-11   1.356523  2.088737  2.119483  2.486874\n",
       "2022-03-12   1.038082  2.088737  2.119483  2.486874\n",
       "2022-03-13   1.372592  2.088737  2.119483  2.486874\n",
       "2022-03-14   1.767925  2.088737  2.119483  2.486874"
      ]
     },
     "execution_count": 41,
     "metadata": {},
     "output_type": "execute_result"
    }
   ],
   "source": [
    "df.head()"
   ]
  },
  {
   "cell_type": "code",
   "execution_count": 42,
   "id": "3550aab5",
   "metadata": {},
   "outputs": [
    {
     "name": "stdout",
     "output_type": "stream",
     "text": [
      "<class 'pandas.core.frame.DataFrame'>\n",
      "DatetimeIndex: 30 entries, 2022-03-10 to 2022-04-08\n",
      "Data columns (total 4 columns):\n",
      " #   Column     Non-Null Count  Dtype  \n",
      "---  ------     --------------  -----  \n",
      " 0   arima-man  30 non-null     float64\n",
      " 1   sarima     30 non-null     float64\n",
      " 2   ses        30 non-null     float64\n",
      " 3   xgboost    30 non-null     float64\n",
      "dtypes: float64(4)\n",
      "memory usage: 1.2 KB\n"
     ]
    }
   ],
   "source": [
    "df.info()"
   ]
  },
  {
   "cell_type": "code",
   "execution_count": null,
   "id": "6399cf55",
   "metadata": {},
   "outputs": [],
   "source": []
  }
 ],
 "metadata": {
  "kernelspec": {
   "display_name": "Python 3 (ipykernel)",
   "language": "python",
   "name": "python3"
  },
  "language_info": {
   "codemirror_mode": {
    "name": "ipython",
    "version": 3
   },
   "file_extension": ".py",
   "mimetype": "text/x-python",
   "name": "python",
   "nbconvert_exporter": "python",
   "pygments_lexer": "ipython3",
   "version": "3.9.7"
  }
 },
 "nbformat": 4,
 "nbformat_minor": 5
}
