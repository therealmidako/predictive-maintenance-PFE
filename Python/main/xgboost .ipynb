{
 "cells": [
  {
   "cell_type": "code",
   "execution_count": 1,
   "id": "72145973",
   "metadata": {},
   "outputs": [
    {
     "data": {
      "text/plain": [
       "DatetimeIndex(['2019-01-01', '2019-01-02', '2019-01-03', '2019-01-04',\n",
       "               '2019-01-05', '2019-01-06', '2019-01-07', '2019-01-08',\n",
       "               '2019-01-09', '2019-01-10',\n",
       "               ...\n",
       "               '2022-03-01', '2022-03-02', '2022-03-03', '2022-03-04',\n",
       "               '2022-03-05', '2022-03-06', '2022-03-07', '2022-03-08',\n",
       "               '2022-03-09', '2022-03-10'],\n",
       "              dtype='datetime64[ns]', name='Date début', length=1165, freq='D')"
      ]
     },
     "execution_count": 1,
     "metadata": {},
     "output_type": "execute_result"
    }
   ],
   "source": [
    "import pandas as pd\n",
    "import numpy as np\n",
    "import matplotlib.pyplot as plt\n",
    "import seaborn as sns \n",
    "df=pd.read_csv('./nombre_depanes_par_jour.csv', encoding='latin-1',sep=\";\",index_col=\"Date début\", parse_dates=True)\n",
    "df=df.asfreq(\"D\")\n",
    "df.index"
   ]
  },
  {
   "cell_type": "code",
   "execution_count": 2,
   "id": "581b791f",
   "metadata": {},
   "outputs": [
    {
     "data": {
      "text/html": [
       "<div>\n",
       "<style scoped>\n",
       "    .dataframe tbody tr th:only-of-type {\n",
       "        vertical-align: middle;\n",
       "    }\n",
       "\n",
       "    .dataframe tbody tr th {\n",
       "        vertical-align: top;\n",
       "    }\n",
       "\n",
       "    .dataframe thead th {\n",
       "        text-align: right;\n",
       "    }\n",
       "</style>\n",
       "<table border=\"1\" class=\"dataframe\">\n",
       "  <thead>\n",
       "    <tr style=\"text-align: right;\">\n",
       "      <th></th>\n",
       "      <th>Number of Orders</th>\n",
       "    </tr>\n",
       "  </thead>\n",
       "  <tbody>\n",
       "    <tr>\n",
       "      <th>count</th>\n",
       "      <td>1165.000000</td>\n",
       "    </tr>\n",
       "    <tr>\n",
       "      <th>mean</th>\n",
       "      <td>8.193991</td>\n",
       "    </tr>\n",
       "    <tr>\n",
       "      <th>std</th>\n",
       "      <td>6.077546</td>\n",
       "    </tr>\n",
       "    <tr>\n",
       "      <th>min</th>\n",
       "      <td>0.000000</td>\n",
       "    </tr>\n",
       "    <tr>\n",
       "      <th>25%</th>\n",
       "      <td>4.000000</td>\n",
       "    </tr>\n",
       "    <tr>\n",
       "      <th>50%</th>\n",
       "      <td>7.000000</td>\n",
       "    </tr>\n",
       "    <tr>\n",
       "      <th>75%</th>\n",
       "      <td>10.000000</td>\n",
       "    </tr>\n",
       "    <tr>\n",
       "      <th>max</th>\n",
       "      <td>57.000000</td>\n",
       "    </tr>\n",
       "  </tbody>\n",
       "</table>\n",
       "</div>"
      ],
      "text/plain": [
       "       Number of Orders\n",
       "count       1165.000000\n",
       "mean           8.193991\n",
       "std            6.077546\n",
       "min            0.000000\n",
       "25%            4.000000\n",
       "50%            7.000000\n",
       "75%           10.000000\n",
       "max           57.000000"
      ]
     },
     "execution_count": 2,
     "metadata": {},
     "output_type": "execute_result"
    }
   ],
   "source": [
    "df.describe()"
   ]
  },
  {
   "cell_type": "code",
   "execution_count": 3,
   "id": "f39b9f02",
   "metadata": {},
   "outputs": [
    {
     "name": "stdout",
     "output_type": "stream",
     "text": [
      "<class 'pandas.core.frame.DataFrame'>\n",
      "DatetimeIndex: 1165 entries, 2019-01-01 to 2022-03-10\n",
      "Freq: D\n",
      "Data columns (total 1 columns):\n",
      " #   Column            Non-Null Count  Dtype  \n",
      "---  ------            --------------  -----  \n",
      " 0   Number of Orders  1165 non-null   float64\n",
      "dtypes: float64(1)\n",
      "memory usage: 18.2 KB\n"
     ]
    }
   ],
   "source": [
    "df.info()"
   ]
  },
  {
   "cell_type": "code",
   "execution_count": 4,
   "id": "7664d8f7",
   "metadata": {
    "scrolled": true
   },
   "outputs": [
    {
     "name": "stdout",
     "output_type": "stream",
     "text": [
      "<class 'pandas.core.frame.DataFrame'>\n",
      "DatetimeIndex: 1165 entries, 2019-01-01 to 2022-03-10\n",
      "Freq: D\n",
      "Data columns (total 1 columns):\n",
      " #   Column            Non-Null Count  Dtype  \n",
      "---  ------            --------------  -----  \n",
      " 0   Number of Orders  1165 non-null   float64\n",
      "dtypes: float64(1)\n",
      "memory usage: 18.2 KB\n"
     ]
    }
   ],
   "source": [
    "df.info()"
   ]
  },
  {
   "cell_type": "code",
   "execution_count": 5,
   "id": "3c31aaeb",
   "metadata": {
    "scrolled": true
   },
   "outputs": [
    {
     "data": {
      "text/html": [
       "<div>\n",
       "<style scoped>\n",
       "    .dataframe tbody tr th:only-of-type {\n",
       "        vertical-align: middle;\n",
       "    }\n",
       "\n",
       "    .dataframe tbody tr th {\n",
       "        vertical-align: top;\n",
       "    }\n",
       "\n",
       "    .dataframe thead th {\n",
       "        text-align: right;\n",
       "    }\n",
       "</style>\n",
       "<table border=\"1\" class=\"dataframe\">\n",
       "  <thead>\n",
       "    <tr style=\"text-align: right;\">\n",
       "      <th></th>\n",
       "      <th>Number of Orders</th>\n",
       "    </tr>\n",
       "    <tr>\n",
       "      <th>Date début</th>\n",
       "      <th></th>\n",
       "    </tr>\n",
       "  </thead>\n",
       "  <tbody>\n",
       "    <tr>\n",
       "      <th>2019-01-01</th>\n",
       "      <td>9.0</td>\n",
       "    </tr>\n",
       "    <tr>\n",
       "      <th>2019-01-02</th>\n",
       "      <td>9.0</td>\n",
       "    </tr>\n",
       "    <tr>\n",
       "      <th>2019-01-03</th>\n",
       "      <td>15.0</td>\n",
       "    </tr>\n",
       "    <tr>\n",
       "      <th>2019-01-04</th>\n",
       "      <td>8.0</td>\n",
       "    </tr>\n",
       "    <tr>\n",
       "      <th>2019-01-05</th>\n",
       "      <td>7.0</td>\n",
       "    </tr>\n",
       "  </tbody>\n",
       "</table>\n",
       "</div>"
      ],
      "text/plain": [
       "            Number of Orders\n",
       "Date début                  \n",
       "2019-01-01               9.0\n",
       "2019-01-02               9.0\n",
       "2019-01-03              15.0\n",
       "2019-01-04               8.0\n",
       "2019-01-05               7.0"
      ]
     },
     "execution_count": 5,
     "metadata": {},
     "output_type": "execute_result"
    }
   ],
   "source": [
    "df.head()"
   ]
  },
  {
   "cell_type": "code",
   "execution_count": 6,
   "id": "612f297e",
   "metadata": {},
   "outputs": [],
   "source": [
    "df.insert(0,'null','')\n",
    "df['null'] = 0"
   ]
  },
  {
   "cell_type": "code",
   "execution_count": 7,
   "id": "422d3e5c",
   "metadata": {},
   "outputs": [],
   "source": [
    "msk=(df.index<'2021-07-30')\n",
    "df_train=df[msk].copy()\n",
    "df_test=df[~msk].copy()"
   ]
  },
  {
   "cell_type": "code",
   "execution_count": 8,
   "id": "961f5fce",
   "metadata": {},
   "outputs": [],
   "source": [
    "x_train=df_train.drop(['Number of Orders'], axis=1)"
   ]
  },
  {
   "cell_type": "code",
   "execution_count": 9,
   "id": "a81c6c43",
   "metadata": {},
   "outputs": [],
   "source": [
    "x_test=df_test.drop(['Number of Orders'], axis=1)"
   ]
  },
  {
   "cell_type": "code",
   "execution_count": 10,
   "id": "6b04a746",
   "metadata": {},
   "outputs": [],
   "source": [
    "y_train=df_train[['Number of Orders']]"
   ]
  },
  {
   "cell_type": "code",
   "execution_count": 11,
   "id": "178a3ee9",
   "metadata": {},
   "outputs": [],
   "source": [
    "y_test=df_test[['Number of Orders']]"
   ]
  },
  {
   "cell_type": "code",
   "execution_count": 12,
   "id": "0ac9bbfb",
   "metadata": {},
   "outputs": [],
   "source": [
    "from xgboost import XGBRegressor"
   ]
  },
  {
   "cell_type": "code",
   "execution_count": 13,
   "id": "e3751275",
   "metadata": {},
   "outputs": [],
   "source": [
    "xg_reg=XGBRegressor()"
   ]
  },
  {
   "cell_type": "code",
   "execution_count": 14,
   "id": "c8bd4bc5",
   "metadata": {
    "scrolled": false
   },
   "outputs": [],
   "source": [
    "xg_fit=xg_reg.fit(x_train, y_train)"
   ]
  },
  {
   "cell_type": "code",
   "execution_count": 15,
   "id": "5842d128",
   "metadata": {},
   "outputs": [],
   "source": [
    " y_pred=xg_fit.predict(x_test)"
   ]
  },
  {
   "cell_type": "code",
   "execution_count": 16,
   "id": "a2b7efdf",
   "metadata": {},
   "outputs": [],
   "source": [
    "df['forecast_xgboost'] = [None]*len(df_train) + list(y_pred)"
   ]
  },
  {
   "cell_type": "code",
   "execution_count": 17,
   "id": "96a312d3",
   "metadata": {},
   "outputs": [],
   "source": [
    "df = df.drop('null', axis=1)"
   ]
  },
  {
   "cell_type": "code",
   "execution_count": 18,
   "id": "29942dc0",
   "metadata": {},
   "outputs": [
    {
     "data": {
      "text/plain": [
       "<AxesSubplot:xlabel='Date début'>"
      ]
     },
     "execution_count": 18,
     "metadata": {},
     "output_type": "execute_result"
    },
    {
     "data": {
      "image/png": "[encoded data removed]",
      "text/plain": [
       "<Figure size 432x288 with 1 Axes>"
      ]
     },
     "metadata": {
      "needs_background": "light"
     },
     "output_type": "display_data"
    }
   ],
   "source": [
    "df.plot()"
   ]
  },
  {
   "cell_type": "code",
   "execution_count": 19,
   "id": "731f60a5",
   "metadata": {},
   "outputs": [
    {
     "name": "stdout",
     "output_type": "stream",
     "text": [
      "mae - xg: 4.563662341662815\n",
      "r2 - xg: -0.01000944238655288\n",
      "rmse - xg: 6.859215326846978\n"
     ]
    }
   ],
   "source": [
    "from sklearn.metrics import mean_absolute_error, r2_score , mean_squared_error\n",
    "\n",
    "mae = mean_absolute_error(y_test,y_pred)\n",
    "r2= r2_score( y_test, y_pred)\n",
    "rmse = np.sqrt(mean_squared_error(y_test,y_pred))\n",
    "\n",
    "print(f'mae - xg: {mae}')\n",
    "print(f'r2 - xg: {r2}')\n",
    "print(f'rmse - xg: {rmse}')"
   ]
  },
  {
   "cell_type": "code",
   "execution_count": null,
   "id": "de5c0f38",
   "metadata": {},
   "outputs": [],
   "source": []
  }
 ],
 "metadata": {
  "kernelspec": {
   "display_name": "Python 3 (ipykernel)",
   "language": "python",
   "name": "python3"
  },
  "language_info": {
   "codemirror_mode": {
    "name": "ipython",
    "version": 3
   },
   "file_extension": ".py",
   "mimetype": "text/x-python",
   "name": "python",
   "nbconvert_exporter": "python",
   "pygments_lexer": "ipython3",
   "version": "3.9.7"
  }
 },
 "nbformat": 4,
 "nbformat_minor": 5
}
