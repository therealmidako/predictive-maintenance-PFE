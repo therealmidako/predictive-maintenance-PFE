{
 "cells": [
  {
   "cell_type": "code",
   "execution_count": 1,
   "id": "c57b2e4c",
   "metadata": {},
   "outputs": [],
   "source": [
    "import pandas as pd\n",
    "import numpy as np \n",
    "import matplotlib.pyplot as plt"
   ]
  },
  {
   "cell_type": "code",
   "execution_count": 2,
   "id": "d393f2e0",
   "metadata": {},
   "outputs": [],
   "source": [
    "\n",
    "df=pd.read_csv('./nombre_depanes_par_jour.csv', encoding='latin-1',sep=\";\",index_col=\"Date début\", parse_dates=True)"
   ]
  },
  {
   "cell_type": "code",
   "execution_count": 3,
   "id": "aa778a9b",
   "metadata": {},
   "outputs": [
    {
     "data": {
      "text/html": [
       "<div>\n",
       "<style scoped>\n",
       "    .dataframe tbody tr th:only-of-type {\n",
       "        vertical-align: middle;\n",
       "    }\n",
       "\n",
       "    .dataframe tbody tr th {\n",
       "        vertical-align: top;\n",
       "    }\n",
       "\n",
       "    .dataframe thead th {\n",
       "        text-align: right;\n",
       "    }\n",
       "</style>\n",
       "<table border=\"1\" class=\"dataframe\">\n",
       "  <thead>\n",
       "    <tr style=\"text-align: right;\">\n",
       "      <th></th>\n",
       "      <th>Number of Orders</th>\n",
       "    </tr>\n",
       "    <tr>\n",
       "      <th>Date début</th>\n",
       "      <th></th>\n",
       "    </tr>\n",
       "  </thead>\n",
       "  <tbody>\n",
       "    <tr>\n",
       "      <th>2019-01-01</th>\n",
       "      <td>9.0</td>\n",
       "    </tr>\n",
       "    <tr>\n",
       "      <th>2019-01-02</th>\n",
       "      <td>9.0</td>\n",
       "    </tr>\n",
       "    <tr>\n",
       "      <th>2019-01-03</th>\n",
       "      <td>15.0</td>\n",
       "    </tr>\n",
       "    <tr>\n",
       "      <th>2019-01-04</th>\n",
       "      <td>8.0</td>\n",
       "    </tr>\n",
       "    <tr>\n",
       "      <th>2019-01-05</th>\n",
       "      <td>7.0</td>\n",
       "    </tr>\n",
       "  </tbody>\n",
       "</table>\n",
       "</div>"
      ],
      "text/plain": [
       "            Number of Orders\n",
       "Date début                  \n",
       "2019-01-01               9.0\n",
       "2019-01-02               9.0\n",
       "2019-01-03              15.0\n",
       "2019-01-04               8.0\n",
       "2019-01-05               7.0"
      ]
     },
     "execution_count": 3,
     "metadata": {},
     "output_type": "execute_result"
    }
   ],
   "source": [
    "df.head()"
   ]
  },
  {
   "cell_type": "code",
   "execution_count": 4,
   "id": "603bf8da",
   "metadata": {
    "scrolled": true
   },
   "outputs": [
    {
     "data": {
      "text/plain": [
       "DatetimeIndex(['2019-01-01', '2019-01-02', '2019-01-03', '2019-01-04',\n",
       "               '2019-01-05', '2019-01-06', '2019-01-07', '2019-01-08',\n",
       "               '2019-01-09', '2019-01-10',\n",
       "               ...\n",
       "               '2022-03-01', '2022-03-02', '2022-03-03', '2022-03-04',\n",
       "               '2022-03-05', '2022-03-06', '2022-03-07', '2022-03-08',\n",
       "               '2022-03-09', '2022-03-10'],\n",
       "              dtype='datetime64[ns]', name='Date début', length=1165, freq='D')"
      ]
     },
     "execution_count": 4,
     "metadata": {},
     "output_type": "execute_result"
    }
   ],
   "source": [
    "df=df.asfreq(\"D\")\n",
    "\n",
    "df.index"
   ]
  },
  {
   "cell_type": "code",
   "execution_count": 5,
   "id": "d924f5a2",
   "metadata": {},
   "outputs": [
    {
     "data": {
      "text/html": [
       "<div>\n",
       "<style scoped>\n",
       "    .dataframe tbody tr th:only-of-type {\n",
       "        vertical-align: middle;\n",
       "    }\n",
       "\n",
       "    .dataframe tbody tr th {\n",
       "        vertical-align: top;\n",
       "    }\n",
       "\n",
       "    .dataframe thead th {\n",
       "        text-align: right;\n",
       "    }\n",
       "</style>\n",
       "<table border=\"1\" class=\"dataframe\">\n",
       "  <thead>\n",
       "    <tr style=\"text-align: right;\">\n",
       "      <th></th>\n",
       "      <th>Number of Orders</th>\n",
       "    </tr>\n",
       "    <tr>\n",
       "      <th>Date début</th>\n",
       "      <th></th>\n",
       "    </tr>\n",
       "  </thead>\n",
       "  <tbody>\n",
       "    <tr>\n",
       "      <th>2022-03-06</th>\n",
       "      <td>0.0</td>\n",
       "    </tr>\n",
       "    <tr>\n",
       "      <th>2022-03-07</th>\n",
       "      <td>3.0</td>\n",
       "    </tr>\n",
       "    <tr>\n",
       "      <th>2022-03-08</th>\n",
       "      <td>4.0</td>\n",
       "    </tr>\n",
       "    <tr>\n",
       "      <th>2022-03-09</th>\n",
       "      <td>6.0</td>\n",
       "    </tr>\n",
       "    <tr>\n",
       "      <th>2022-03-10</th>\n",
       "      <td>1.0</td>\n",
       "    </tr>\n",
       "  </tbody>\n",
       "</table>\n",
       "</div>"
      ],
      "text/plain": [
       "            Number of Orders\n",
       "Date début                  \n",
       "2022-03-06               0.0\n",
       "2022-03-07               3.0\n",
       "2022-03-08               4.0\n",
       "2022-03-09               6.0\n",
       "2022-03-10               1.0"
      ]
     },
     "execution_count": 5,
     "metadata": {},
     "output_type": "execute_result"
    }
   ],
   "source": [
    "df.tail()"
   ]
  },
  {
   "cell_type": "code",
   "execution_count": 6,
   "id": "2e4086e4",
   "metadata": {},
   "outputs": [
    {
     "name": "stderr",
     "output_type": "stream",
     "text": [
      "C:\\Users\\mahdi\\anaconda3\\lib\\site-packages\\statsmodels\\tsa\\statespace\\sarimax.py:966: UserWarning: Non-stationary starting autoregressive parameters found. Using zeros as starting parameters.\n",
      "  warn('Non-stationary starting autoregressive parameters'\n"
     ]
    },
    {
     "name": "stdout",
     "output_type": "stream",
     "text": [
      "                               SARIMAX Results                                \n",
      "==============================================================================\n",
      "Dep. Variable:       Number of Orders   No. Observations:                 1165\n",
      "Model:                 ARIMA(7, 1, 7)   Log Likelihood               -3658.086\n",
      "Date:                Fri, 24 May 2024   AIC                           7346.171\n",
      "Time:                        16:43:54   BIC                           7422.065\n",
      "Sample:                    01-01-2019   HQIC                          7374.803\n",
      "                         - 03-10-2022                                         \n",
      "Covariance Type:                  opg                                         \n",
      "==============================================================================\n",
      "                 coef    std err          z      P>|z|      [0.025      0.975]\n",
      "------------------------------------------------------------------------------\n",
      "ar.L1         -0.7855      0.045    -17.452      0.000      -0.874      -0.697\n",
      "ar.L2         -0.8236      0.038    -21.916      0.000      -0.897      -0.750\n",
      "ar.L3         -0.7905      0.043    -18.310      0.000      -0.875      -0.706\n",
      "ar.L4         -0.7916      0.046    -17.303      0.000      -0.881      -0.702\n",
      "ar.L5         -0.8045      0.037    -21.528      0.000      -0.878      -0.731\n",
      "ar.L6         -0.7733      0.046    -16.738      0.000      -0.864      -0.683\n",
      "ar.L7          0.1457      0.031      4.682      0.000       0.085       0.207\n",
      "ma.L1         -0.1640      0.040     -4.109      0.000      -0.242      -0.086\n",
      "ma.L2          0.0708      0.039      1.815      0.070      -0.006       0.147\n",
      "ma.L3         -0.0625      0.039     -1.612      0.107      -0.139       0.014\n",
      "ma.L4         -0.0169      0.043     -0.395      0.693      -0.101       0.067\n",
      "ma.L5          0.0459      0.042      1.091      0.275      -0.037       0.128\n",
      "ma.L6         -0.0218      0.040     -0.548      0.584      -0.100       0.056\n",
      "ma.L7         -0.8371      0.038    -22.271      0.000      -0.911      -0.763\n",
      "sigma2        27.3934      0.512     53.506      0.000      26.390      28.397\n",
      "===================================================================================\n",
      "Ljung-Box (L1) (Q):                   0.71   Jarque-Bera (JB):              6978.02\n",
      "Prob(Q):                              0.40   Prob(JB):                         0.00\n",
      "Heteroskedasticity (H):               0.69   Skew:                             2.41\n",
      "Prob(H) (two-sided):                  0.00   Kurtosis:                        13.98\n",
      "===================================================================================\n",
      "\n",
      "Warnings:\n",
      "[1] Covariance matrix calculated using the outer product of gradients (complex-step).\n"
     ]
    },
    {
     "name": "stderr",
     "output_type": "stream",
     "text": [
      "C:\\Users\\mahdi\\anaconda3\\lib\\site-packages\\statsmodels\\base\\model.py:607: ConvergenceWarning: Maximum Likelihood optimization failed to converge. Check mle_retvals\n",
      "  warnings.warn(\"Maximum Likelihood optimization failed to \"\n"
     ]
    }
   ],
   "source": [
    "from statsmodels.tsa.arima.model import ARIMA\n",
    "model = ARIMA(df, order=(7,1,7))\n",
    "model_fit = model.fit()\n",
    "print(model_fit.summary())"
   ]
  },
  {
   "cell_type": "code",
   "execution_count": 7,
   "id": "f2746fef",
   "metadata": {},
   "outputs": [
    {
     "data": {
      "text/plain": [
       "<AxesSubplot:>"
      ]
     },
     "execution_count": 7,
     "metadata": {},
     "output_type": "execute_result"
    },
    {
     "data": {
      "image/png": "[encoded data removed]",
      "text/plain": [
       "<Figure size 432x288 with 1 Axes>"
      ]
     },
     "metadata": {
      "needs_background": "light"
     },
     "output_type": "display_data"
    }
   ],
   "source": [
    "forecast_test = model_fit.forecast(30)\n",
    "\n",
    "df1= forecast_test\n",
    "\n",
    "df1.plot()"
   ]
  },
  {
   "cell_type": "code",
   "execution_count": 8,
   "id": "4ac7e4ee",
   "metadata": {},
   "outputs": [
    {
     "data": {
      "text/plain": [
       "2022-04-05    8.868716\n",
       "2022-04-06    7.486690\n",
       "2022-04-07    8.414005\n",
       "2022-04-08    8.956315\n",
       "2022-04-09    5.234464\n",
       "Freq: D, Name: predicted_mean, dtype: float64"
      ]
     },
     "execution_count": 8,
     "metadata": {},
     "output_type": "execute_result"
    }
   ],
   "source": [
    "df1.tail()"
   ]
  },
  {
   "cell_type": "code",
   "execution_count": 9,
   "id": "ef23579c",
   "metadata": {
    "scrolled": false
   },
   "outputs": [],
   "source": [
    "df1.to_csv('forcast.csv', index=True, encoding='latin-1',sep=\";\") "
   ]
  },
  {
   "cell_type": "code",
   "execution_count": 10,
   "id": "e27f3f43",
   "metadata": {},
   "outputs": [],
   "source": [
    "df=pd.read_csv('./forcast.csv', encoding='latin-1',sep=\";\")"
   ]
  },
  {
   "cell_type": "code",
   "execution_count": 11,
   "id": "71143478",
   "metadata": {},
   "outputs": [
    {
     "data": {
      "text/html": [
       "<div>\n",
       "<style scoped>\n",
       "    .dataframe tbody tr th:only-of-type {\n",
       "        vertical-align: middle;\n",
       "    }\n",
       "\n",
       "    .dataframe tbody tr th {\n",
       "        vertical-align: top;\n",
       "    }\n",
       "\n",
       "    .dataframe thead th {\n",
       "        text-align: right;\n",
       "    }\n",
       "</style>\n",
       "<table border=\"1\" class=\"dataframe\">\n",
       "  <thead>\n",
       "    <tr style=\"text-align: right;\">\n",
       "      <th></th>\n",
       "      <th>Unnamed: 0</th>\n",
       "      <th>predicted_mean</th>\n",
       "    </tr>\n",
       "  </thead>\n",
       "  <tbody>\n",
       "    <tr>\n",
       "      <th>0</th>\n",
       "      <td>2022-03-11</td>\n",
       "      <td>8.285812</td>\n",
       "    </tr>\n",
       "    <tr>\n",
       "      <th>1</th>\n",
       "      <td>2022-03-12</td>\n",
       "      <td>4.293431</td>\n",
       "    </tr>\n",
       "    <tr>\n",
       "      <th>2</th>\n",
       "      <td>2022-03-13</td>\n",
       "      <td>6.187384</td>\n",
       "    </tr>\n",
       "    <tr>\n",
       "      <th>3</th>\n",
       "      <td>2022-03-14</td>\n",
       "      <td>12.308410</td>\n",
       "    </tr>\n",
       "    <tr>\n",
       "      <th>4</th>\n",
       "      <td>2022-03-15</td>\n",
       "      <td>8.514153</td>\n",
       "    </tr>\n",
       "  </tbody>\n",
       "</table>\n",
       "</div>"
      ],
      "text/plain": [
       "   Unnamed: 0  predicted_mean\n",
       "0  2022-03-11        8.285812\n",
       "1  2022-03-12        4.293431\n",
       "2  2022-03-13        6.187384\n",
       "3  2022-03-14       12.308410\n",
       "4  2022-03-15        8.514153"
      ]
     },
     "execution_count": 11,
     "metadata": {},
     "output_type": "execute_result"
    }
   ],
   "source": [
    "df.head()"
   ]
  },
  {
   "cell_type": "code",
   "execution_count": 12,
   "id": "b30bc0b7",
   "metadata": {},
   "outputs": [],
   "source": [
    "df.rename(columns={'Unnamed: 0':'date'}, inplace=True)"
   ]
  },
  {
   "cell_type": "code",
   "execution_count": 13,
   "id": "39f7321b",
   "metadata": {},
   "outputs": [],
   "source": [
    "df.rename(columns={'predicted_mean':'arima-man'}, inplace=True)"
   ]
  },
  {
   "cell_type": "code",
   "execution_count": 14,
   "id": "9c94c68c",
   "metadata": {},
   "outputs": [
    {
     "data": {
      "text/html": [
       "<div>\n",
       "<style scoped>\n",
       "    .dataframe tbody tr th:only-of-type {\n",
       "        vertical-align: middle;\n",
       "    }\n",
       "\n",
       "    .dataframe tbody tr th {\n",
       "        vertical-align: top;\n",
       "    }\n",
       "\n",
       "    .dataframe thead th {\n",
       "        text-align: right;\n",
       "    }\n",
       "</style>\n",
       "<table border=\"1\" class=\"dataframe\">\n",
       "  <thead>\n",
       "    <tr style=\"text-align: right;\">\n",
       "      <th></th>\n",
       "      <th>date</th>\n",
       "      <th>arima-man</th>\n",
       "    </tr>\n",
       "  </thead>\n",
       "  <tbody>\n",
       "    <tr>\n",
       "      <th>0</th>\n",
       "      <td>2022-03-11</td>\n",
       "      <td>8.285812</td>\n",
       "    </tr>\n",
       "    <tr>\n",
       "      <th>1</th>\n",
       "      <td>2022-03-12</td>\n",
       "      <td>4.293431</td>\n",
       "    </tr>\n",
       "    <tr>\n",
       "      <th>2</th>\n",
       "      <td>2022-03-13</td>\n",
       "      <td>6.187384</td>\n",
       "    </tr>\n",
       "    <tr>\n",
       "      <th>3</th>\n",
       "      <td>2022-03-14</td>\n",
       "      <td>12.308410</td>\n",
       "    </tr>\n",
       "    <tr>\n",
       "      <th>4</th>\n",
       "      <td>2022-03-15</td>\n",
       "      <td>8.514153</td>\n",
       "    </tr>\n",
       "  </tbody>\n",
       "</table>\n",
       "</div>"
      ],
      "text/plain": [
       "         date  arima-man\n",
       "0  2022-03-11   8.285812\n",
       "1  2022-03-12   4.293431\n",
       "2  2022-03-13   6.187384\n",
       "3  2022-03-14  12.308410\n",
       "4  2022-03-15   8.514153"
      ]
     },
     "execution_count": 14,
     "metadata": {},
     "output_type": "execute_result"
    }
   ],
   "source": [
    "df.head()"
   ]
  },
  {
   "cell_type": "code",
   "execution_count": 15,
   "id": "d942cd5f",
   "metadata": {},
   "outputs": [],
   "source": [
    "df.to_csv('forcast.csv', index=False, encoding='latin-1',sep=\";\") "
   ]
  },
  {
   "cell_type": "code",
   "execution_count": 16,
   "id": "efb7bc51",
   "metadata": {},
   "outputs": [],
   "source": [
    "df=pd.read_csv('./forcast.csv', encoding='latin-1',sep=\";\",index_col=\"date\", parse_dates=True)"
   ]
  },
  {
   "cell_type": "code",
   "execution_count": 17,
   "id": "b69de52c",
   "metadata": {},
   "outputs": [],
   "source": [
    "df1=pd.read_csv('./nombre_depanes_par_jour.csv', encoding='latin-1',sep=\";\",index_col=\"Date début\", parse_dates=True)"
   ]
  },
  {
   "cell_type": "code",
   "execution_count": 18,
   "id": "23afccbc",
   "metadata": {},
   "outputs": [
    {
     "data": {
      "text/html": [
       "<div>\n",
       "<style scoped>\n",
       "    .dataframe tbody tr th:only-of-type {\n",
       "        vertical-align: middle;\n",
       "    }\n",
       "\n",
       "    .dataframe tbody tr th {\n",
       "        vertical-align: top;\n",
       "    }\n",
       "\n",
       "    .dataframe thead th {\n",
       "        text-align: right;\n",
       "    }\n",
       "</style>\n",
       "<table border=\"1\" class=\"dataframe\">\n",
       "  <thead>\n",
       "    <tr style=\"text-align: right;\">\n",
       "      <th></th>\n",
       "      <th>Number of Orders</th>\n",
       "    </tr>\n",
       "    <tr>\n",
       "      <th>Date début</th>\n",
       "      <th></th>\n",
       "    </tr>\n",
       "  </thead>\n",
       "  <tbody>\n",
       "    <tr>\n",
       "      <th>2019-01-01</th>\n",
       "      <td>9.0</td>\n",
       "    </tr>\n",
       "    <tr>\n",
       "      <th>2019-01-02</th>\n",
       "      <td>9.0</td>\n",
       "    </tr>\n",
       "    <tr>\n",
       "      <th>2019-01-03</th>\n",
       "      <td>15.0</td>\n",
       "    </tr>\n",
       "    <tr>\n",
       "      <th>2019-01-04</th>\n",
       "      <td>8.0</td>\n",
       "    </tr>\n",
       "    <tr>\n",
       "      <th>2019-01-05</th>\n",
       "      <td>7.0</td>\n",
       "    </tr>\n",
       "  </tbody>\n",
       "</table>\n",
       "</div>"
      ],
      "text/plain": [
       "            Number of Orders\n",
       "Date début                  \n",
       "2019-01-01               9.0\n",
       "2019-01-02               9.0\n",
       "2019-01-03              15.0\n",
       "2019-01-04               8.0\n",
       "2019-01-05               7.0"
      ]
     },
     "execution_count": 18,
     "metadata": {},
     "output_type": "execute_result"
    }
   ],
   "source": [
    "df1.head()"
   ]
  },
  {
   "cell_type": "code",
   "execution_count": 19,
   "id": "0e18b275",
   "metadata": {},
   "outputs": [],
   "source": [
    "import pmdarima as pm\n",
    "sarima= pm.auto_arima(df1, m=7)"
   ]
  },
  {
   "cell_type": "code",
   "execution_count": 20,
   "id": "28918d8b",
   "metadata": {},
   "outputs": [
    {
     "data": {
      "text/plain": [
       "<AxesSubplot:xlabel='date'>"
      ]
     },
     "execution_count": 20,
     "metadata": {},
     "output_type": "execute_result"
    },
    {
     "data": {
      "image/png": "[encoded data removed]",
      "text/plain": [
       "<Figure size 432x288 with 1 Axes>"
      ]
     },
     "metadata": {
      "needs_background": "light"
     },
     "output_type": "display_data"
    }
   ],
   "source": [
    "forecast_sarima = sarima.predict(n_periods=len(df))\n",
    "df['sarima'] = list(forecast_sarima)\n",
    "\n",
    "df.plot()"
   ]
  },
  {
   "cell_type": "code",
   "execution_count": 21,
   "id": "ce2ab6d1",
   "metadata": {},
   "outputs": [],
   "source": [
    "from statsmodels.tsa.holtwinters import SimpleExpSmoothing"
   ]
  },
  {
   "cell_type": "code",
   "execution_count": 22,
   "id": "1ab7db12",
   "metadata": {},
   "outputs": [],
   "source": [
    "ses= SimpleExpSmoothing(np.asarray(df1['Number of Orders']))"
   ]
  },
  {
   "cell_type": "code",
   "execution_count": 23,
   "id": "8c755129",
   "metadata": {},
   "outputs": [],
   "source": [
    "ses_fit=ses.fit(optimized=True)"
   ]
  },
  {
   "cell_type": "code",
   "execution_count": 24,
   "id": "248ed43e",
   "metadata": {
    "scrolled": true
   },
   "outputs": [
    {
     "data": {
      "text/plain": [
       "<AxesSubplot:xlabel='date'>"
      ]
     },
     "execution_count": 24,
     "metadata": {},
     "output_type": "execute_result"
    },
    {
     "data": {
      "image/png": "[encoded data removed]",
      "text/plain": [
       "<Figure size 432x288 with 1 Axes>"
      ]
     },
     "metadata": {
      "needs_background": "light"
     },
     "output_type": "display_data"
    }
   ],
   "source": [
    "y_pred= ses_fit.forecast(len(df))\n",
    "df['ses'] = list(y_pred)\n",
    "df.plot()"
   ]
  },
  {
   "cell_type": "code",
   "execution_count": 25,
   "id": "165da015",
   "metadata": {},
   "outputs": [],
   "source": [
    "from xgboost import XGBRegressor"
   ]
  },
  {
   "cell_type": "code",
   "execution_count": 26,
   "id": "955f98b5",
   "metadata": {},
   "outputs": [],
   "source": [
    "xg_reg=XGBRegressor()"
   ]
  },
  {
   "cell_type": "code",
   "execution_count": 27,
   "id": "87cdb2b5",
   "metadata": {},
   "outputs": [],
   "source": [
    "df3=pd.read_csv('./forcast.csv', encoding='latin-1',sep=\";\",index_col=\"date\", parse_dates=True)"
   ]
  },
  {
   "cell_type": "code",
   "execution_count": 28,
   "id": "439a61d6",
   "metadata": {},
   "outputs": [
    {
     "data": {
      "text/html": [
       "<div>\n",
       "<style scoped>\n",
       "    .dataframe tbody tr th:only-of-type {\n",
       "        vertical-align: middle;\n",
       "    }\n",
       "\n",
       "    .dataframe tbody tr th {\n",
       "        vertical-align: top;\n",
       "    }\n",
       "\n",
       "    .dataframe thead th {\n",
       "        text-align: right;\n",
       "    }\n",
       "</style>\n",
       "<table border=\"1\" class=\"dataframe\">\n",
       "  <thead>\n",
       "    <tr style=\"text-align: right;\">\n",
       "      <th></th>\n",
       "      <th>arima-man</th>\n",
       "    </tr>\n",
       "    <tr>\n",
       "      <th>date</th>\n",
       "      <th></th>\n",
       "    </tr>\n",
       "  </thead>\n",
       "  <tbody>\n",
       "    <tr>\n",
       "      <th>2022-03-11</th>\n",
       "      <td>8.285812</td>\n",
       "    </tr>\n",
       "    <tr>\n",
       "      <th>2022-03-12</th>\n",
       "      <td>4.293431</td>\n",
       "    </tr>\n",
       "    <tr>\n",
       "      <th>2022-03-13</th>\n",
       "      <td>6.187384</td>\n",
       "    </tr>\n",
       "    <tr>\n",
       "      <th>2022-03-14</th>\n",
       "      <td>12.308410</td>\n",
       "    </tr>\n",
       "    <tr>\n",
       "      <th>2022-03-15</th>\n",
       "      <td>8.514153</td>\n",
       "    </tr>\n",
       "  </tbody>\n",
       "</table>\n",
       "</div>"
      ],
      "text/plain": [
       "            arima-man\n",
       "date                 \n",
       "2022-03-11   8.285812\n",
       "2022-03-12   4.293431\n",
       "2022-03-13   6.187384\n",
       "2022-03-14  12.308410\n",
       "2022-03-15   8.514153"
      ]
     },
     "execution_count": 28,
     "metadata": {},
     "output_type": "execute_result"
    }
   ],
   "source": [
    "df3.head()"
   ]
  },
  {
   "cell_type": "code",
   "execution_count": 29,
   "id": "f195fd3d",
   "metadata": {},
   "outputs": [],
   "source": [
    "df1.insert(0,'null','')\n",
    "df1['null'] = 0\n",
    "df3.insert(0,'null','')\n",
    "df3['null'] = 0"
   ]
  },
  {
   "cell_type": "code",
   "execution_count": 30,
   "id": "01acf94e",
   "metadata": {},
   "outputs": [],
   "source": [
    "xg_fit=xg_reg.fit(df1.drop(['Number of Orders'], axis=1),df1['Number of Orders'])"
   ]
  },
  {
   "cell_type": "code",
   "execution_count": 31,
   "id": "a2279aa3",
   "metadata": {},
   "outputs": [],
   "source": [
    " y_pred=xg_fit.predict(df3.drop(['arima-man'], axis=1))"
   ]
  },
  {
   "cell_type": "code",
   "execution_count": 32,
   "id": "6dab6cff",
   "metadata": {},
   "outputs": [],
   "source": [
    "df['xgboost'] =  list(y_pred)"
   ]
  },
  {
   "cell_type": "code",
   "execution_count": 33,
   "id": "d8f54997",
   "metadata": {},
   "outputs": [
    {
     "data": {
      "text/html": [
       "<div>\n",
       "<style scoped>\n",
       "    .dataframe tbody tr th:only-of-type {\n",
       "        vertical-align: middle;\n",
       "    }\n",
       "\n",
       "    .dataframe tbody tr th {\n",
       "        vertical-align: top;\n",
       "    }\n",
       "\n",
       "    .dataframe thead th {\n",
       "        text-align: right;\n",
       "    }\n",
       "</style>\n",
       "<table border=\"1\" class=\"dataframe\">\n",
       "  <thead>\n",
       "    <tr style=\"text-align: right;\">\n",
       "      <th></th>\n",
       "      <th>arima-man</th>\n",
       "      <th>sarima</th>\n",
       "      <th>ses</th>\n",
       "      <th>xgboost</th>\n",
       "    </tr>\n",
       "    <tr>\n",
       "      <th>date</th>\n",
       "      <th></th>\n",
       "      <th></th>\n",
       "      <th></th>\n",
       "      <th></th>\n",
       "    </tr>\n",
       "  </thead>\n",
       "  <tbody>\n",
       "    <tr>\n",
       "      <th>2022-03-11</th>\n",
       "      <td>8.285812</td>\n",
       "      <td>7.941279</td>\n",
       "      <td>7.715774</td>\n",
       "      <td>8.193992</td>\n",
       "    </tr>\n",
       "    <tr>\n",
       "      <th>2022-03-12</th>\n",
       "      <td>4.293431</td>\n",
       "      <td>6.568061</td>\n",
       "      <td>7.715774</td>\n",
       "      <td>8.193992</td>\n",
       "    </tr>\n",
       "    <tr>\n",
       "      <th>2022-03-13</th>\n",
       "      <td>6.187384</td>\n",
       "      <td>6.383874</td>\n",
       "      <td>7.715774</td>\n",
       "      <td>8.193992</td>\n",
       "    </tr>\n",
       "    <tr>\n",
       "      <th>2022-03-14</th>\n",
       "      <td>12.308410</td>\n",
       "      <td>8.958419</td>\n",
       "      <td>7.715774</td>\n",
       "      <td>8.193992</td>\n",
       "    </tr>\n",
       "    <tr>\n",
       "      <th>2022-03-15</th>\n",
       "      <td>8.514153</td>\n",
       "      <td>6.873199</td>\n",
       "      <td>7.715774</td>\n",
       "      <td>8.193992</td>\n",
       "    </tr>\n",
       "  </tbody>\n",
       "</table>\n",
       "</div>"
      ],
      "text/plain": [
       "            arima-man    sarima       ses   xgboost\n",
       "date                                               \n",
       "2022-03-11   8.285812  7.941279  7.715774  8.193992\n",
       "2022-03-12   4.293431  6.568061  7.715774  8.193992\n",
       "2022-03-13   6.187384  6.383874  7.715774  8.193992\n",
       "2022-03-14  12.308410  8.958419  7.715774  8.193992\n",
       "2022-03-15   8.514153  6.873199  7.715774  8.193992"
      ]
     },
     "execution_count": 33,
     "metadata": {},
     "output_type": "execute_result"
    }
   ],
   "source": [
    "df.head()"
   ]
  },
  {
   "cell_type": "code",
   "execution_count": 34,
   "id": "5a2fd58b",
   "metadata": {},
   "outputs": [],
   "source": [
    "df.to_csv('forcast.csv', index=True, encoding='latin-1',sep=\";\") "
   ]
  },
  {
   "cell_type": "code",
   "execution_count": 35,
   "id": "8782e1e1",
   "metadata": {},
   "outputs": [],
   "source": [
    "df=pd.read_csv('./forcast.csv', encoding='latin-1',sep=\";\",index_col=\"date\", parse_dates=True)"
   ]
  },
  {
   "cell_type": "code",
   "execution_count": 36,
   "id": "4b08525b",
   "metadata": {},
   "outputs": [
    {
     "data": {
      "text/html": [
       "<div>\n",
       "<style scoped>\n",
       "    .dataframe tbody tr th:only-of-type {\n",
       "        vertical-align: middle;\n",
       "    }\n",
       "\n",
       "    .dataframe tbody tr th {\n",
       "        vertical-align: top;\n",
       "    }\n",
       "\n",
       "    .dataframe thead th {\n",
       "        text-align: right;\n",
       "    }\n",
       "</style>\n",
       "<table border=\"1\" class=\"dataframe\">\n",
       "  <thead>\n",
       "    <tr style=\"text-align: right;\">\n",
       "      <th></th>\n",
       "      <th>arima-man</th>\n",
       "      <th>sarima</th>\n",
       "      <th>ses</th>\n",
       "      <th>xgboost</th>\n",
       "    </tr>\n",
       "    <tr>\n",
       "      <th>date</th>\n",
       "      <th></th>\n",
       "      <th></th>\n",
       "      <th></th>\n",
       "      <th></th>\n",
       "    </tr>\n",
       "  </thead>\n",
       "  <tbody>\n",
       "    <tr>\n",
       "      <th>2022-03-11</th>\n",
       "      <td>8.285812</td>\n",
       "      <td>7.941279</td>\n",
       "      <td>7.715774</td>\n",
       "      <td>8.193992</td>\n",
       "    </tr>\n",
       "    <tr>\n",
       "      <th>2022-03-12</th>\n",
       "      <td>4.293431</td>\n",
       "      <td>6.568061</td>\n",
       "      <td>7.715774</td>\n",
       "      <td>8.193992</td>\n",
       "    </tr>\n",
       "    <tr>\n",
       "      <th>2022-03-13</th>\n",
       "      <td>6.187384</td>\n",
       "      <td>6.383874</td>\n",
       "      <td>7.715774</td>\n",
       "      <td>8.193992</td>\n",
       "    </tr>\n",
       "    <tr>\n",
       "      <th>2022-03-14</th>\n",
       "      <td>12.308410</td>\n",
       "      <td>8.958419</td>\n",
       "      <td>7.715774</td>\n",
       "      <td>8.193992</td>\n",
       "    </tr>\n",
       "    <tr>\n",
       "      <th>2022-03-15</th>\n",
       "      <td>8.514153</td>\n",
       "      <td>6.873199</td>\n",
       "      <td>7.715774</td>\n",
       "      <td>8.193992</td>\n",
       "    </tr>\n",
       "  </tbody>\n",
       "</table>\n",
       "</div>"
      ],
      "text/plain": [
       "            arima-man    sarima       ses   xgboost\n",
       "date                                               \n",
       "2022-03-11   8.285812  7.941279  7.715774  8.193992\n",
       "2022-03-12   4.293431  6.568061  7.715774  8.193992\n",
       "2022-03-13   6.187384  6.383874  7.715774  8.193992\n",
       "2022-03-14  12.308410  8.958419  7.715774  8.193992\n",
       "2022-03-15   8.514153  6.873199  7.715774  8.193992"
      ]
     },
     "execution_count": 36,
     "metadata": {},
     "output_type": "execute_result"
    }
   ],
   "source": [
    "df.head()"
   ]
  },
  {
   "cell_type": "code",
   "execution_count": 37,
   "id": "3550aab5",
   "metadata": {},
   "outputs": [
    {
     "name": "stdout",
     "output_type": "stream",
     "text": [
      "<class 'pandas.core.frame.DataFrame'>\n",
      "DatetimeIndex: 30 entries, 2022-03-11 to 2022-04-09\n",
      "Data columns (total 4 columns):\n",
      " #   Column     Non-Null Count  Dtype  \n",
      "---  ------     --------------  -----  \n",
      " 0   arima-man  30 non-null     float64\n",
      " 1   sarima     30 non-null     float64\n",
      " 2   ses        30 non-null     float64\n",
      " 3   xgboost    30 non-null     float64\n",
      "dtypes: float64(4)\n",
      "memory usage: 1.2 KB\n"
     ]
    }
   ],
   "source": [
    "df.info()"
   ]
  },
  {
   "cell_type": "code",
   "execution_count": null,
   "id": "6399cf55",
   "metadata": {},
   "outputs": [],
   "source": []
  }
 ],
 "metadata": {
  "kernelspec": {
   "display_name": "Python 3 (ipykernel)",
   "language": "python",
   "name": "python3"
  },
  "language_info": {
   "codemirror_mode": {
    "name": "ipython",
    "version": 3
   },
   "file_extension": ".py",
   "mimetype": "text/x-python",
   "name": "python",
   "nbconvert_exporter": "python",
   "pygments_lexer": "ipython3",
   "version": "3.9.7"
  }
 },
 "nbformat": 4,
 "nbformat_minor": 5
}
