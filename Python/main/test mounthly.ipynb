{
 "cells": [
  {
   "cell_type": "code",
   "execution_count": 1,
   "id": "235d0738",
   "metadata": {
    "scrolled": true
   },
   "outputs": [
    {
     "data": {
      "text/html": [
       "<div>\n",
       "<style scoped>\n",
       "    .dataframe tbody tr th:only-of-type {\n",
       "        vertical-align: middle;\n",
       "    }\n",
       "\n",
       "    .dataframe tbody tr th {\n",
       "        vertical-align: top;\n",
       "    }\n",
       "\n",
       "    .dataframe thead th {\n",
       "        text-align: right;\n",
       "    }\n",
       "</style>\n",
       "<table border=\"1\" class=\"dataframe\">\n",
       "  <thead>\n",
       "    <tr style=\"text-align: right;\">\n",
       "      <th></th>\n",
       "      <th>Ordre de travail</th>\n",
       "      <th>Equipment</th>\n",
       "      <th>Noeud Parent</th>\n",
       "      <th>Classification Equipement</th>\n",
       "      <th>Date début</th>\n",
       "      <th>Type OT</th>\n",
       "    </tr>\n",
       "  </thead>\n",
       "  <tbody>\n",
       "    <tr>\n",
       "      <th>0</th>\n",
       "      <td>OT000001</td>\n",
       "      <td>GCULZ201</td>\n",
       "      <td>GCULZ2</td>\n",
       "      <td>MECANIQUE</td>\n",
       "      <td>2019-01-03</td>\n",
       "      <td>correctif planifié</td>\n",
       "    </tr>\n",
       "    <tr>\n",
       "      <th>1</th>\n",
       "      <td>OT000002</td>\n",
       "      <td>GCULZ103</td>\n",
       "      <td>GCULZ1</td>\n",
       "      <td>MECANIQUE</td>\n",
       "      <td>2019-01-02</td>\n",
       "      <td>correctif planifié</td>\n",
       "    </tr>\n",
       "    <tr>\n",
       "      <th>2</th>\n",
       "      <td>OT000003</td>\n",
       "      <td>ULPRPH0104</td>\n",
       "      <td>ULPRPH01</td>\n",
       "      <td>MECANIQUE</td>\n",
       "      <td>2019-01-03</td>\n",
       "      <td>correctif planifié</td>\n",
       "    </tr>\n",
       "    <tr>\n",
       "      <th>3</th>\n",
       "      <td>OT000011</td>\n",
       "      <td>ULPRPH0104</td>\n",
       "      <td>ULPRPH01</td>\n",
       "      <td>MECANIQUE</td>\n",
       "      <td>2019-01-03</td>\n",
       "      <td>correctif planifié</td>\n",
       "    </tr>\n",
       "    <tr>\n",
       "      <th>4</th>\n",
       "      <td>OT000015</td>\n",
       "      <td>ULPRDV0103</td>\n",
       "      <td>ULPRDV01</td>\n",
       "      <td>MECANIQUE</td>\n",
       "      <td>2019-01-01</td>\n",
       "      <td>correctif planifié</td>\n",
       "    </tr>\n",
       "  </tbody>\n",
       "</table>\n",
       "</div>"
      ],
      "text/plain": [
       "  Ordre de travail   Equipment Noeud Parent Classification Equipement  \\\n",
       "0         OT000001    GCULZ201       GCULZ2                 MECANIQUE   \n",
       "1         OT000002    GCULZ103       GCULZ1                 MECANIQUE   \n",
       "2         OT000003  ULPRPH0104     ULPRPH01                 MECANIQUE   \n",
       "3         OT000011  ULPRPH0104     ULPRPH01                 MECANIQUE   \n",
       "4         OT000015  ULPRDV0103     ULPRDV01                 MECANIQUE   \n",
       "\n",
       "   Date début             Type OT  \n",
       "0  2019-01-03  correctif planifié  \n",
       "1  2019-01-02  correctif planifié  \n",
       "2  2019-01-03  correctif planifié  \n",
       "3  2019-01-03  correctif planifié  \n",
       "4  2019-01-01  correctif planifié  "
      ]
     },
     "execution_count": 1,
     "metadata": {},
     "output_type": "execute_result"
    }
   ],
   "source": [
    "import pandas as pd\n",
    "import numpy as np\n",
    "import matplotlib.pyplot as plt\n",
    "import seaborn as sns \n",
    "df=pd.read_csv('./clean.csv', encoding='latin-1',sep=\";\")\n",
    "df.head()"
   ]
  },
  {
   "cell_type": "code",
   "execution_count": 2,
   "id": "a616fd10",
   "metadata": {},
   "outputs": [
    {
     "data": {
      "text/plain": [
       "Ordre de travail             0\n",
       "Equipment                    0\n",
       "Noeud Parent                 0\n",
       "Classification Equipement    0\n",
       "Date début                   0\n",
       "Type OT                      0\n",
       "dtype: int64"
      ]
     },
     "execution_count": 2,
     "metadata": {},
     "output_type": "execute_result"
    }
   ],
   "source": [
    "df.isnull().sum()\n"
   ]
  },
  {
   "cell_type": "code",
   "execution_count": null,
   "id": "d4967460",
   "metadata": {
    "scrolled": false
   },
   "outputs": [],
   "source": []
  },
  {
   "cell_type": "code",
   "execution_count": 3,
   "id": "e322b594",
   "metadata": {},
   "outputs": [],
   "source": [
    "df['Date début'] = pd.to_datetime(df['Date début'], format='%Y-%m-%d')"
   ]
  },
  {
   "cell_type": "code",
   "execution_count": 4,
   "id": "0d3ca60d",
   "metadata": {
    "scrolled": false
   },
   "outputs": [
    {
     "data": {
      "text/html": [
       "<div>\n",
       "<style scoped>\n",
       "    .dataframe tbody tr th:only-of-type {\n",
       "        vertical-align: middle;\n",
       "    }\n",
       "\n",
       "    .dataframe tbody tr th {\n",
       "        vertical-align: top;\n",
       "    }\n",
       "\n",
       "    .dataframe thead th {\n",
       "        text-align: right;\n",
       "    }\n",
       "</style>\n",
       "<table border=\"1\" class=\"dataframe\">\n",
       "  <thead>\n",
       "    <tr style=\"text-align: right;\">\n",
       "      <th></th>\n",
       "      <th>Date début</th>\n",
       "      <th>Number of Orders</th>\n",
       "    </tr>\n",
       "  </thead>\n",
       "  <tbody>\n",
       "    <tr>\n",
       "      <th>0</th>\n",
       "      <td>2019-01</td>\n",
       "      <td>399</td>\n",
       "    </tr>\n",
       "    <tr>\n",
       "      <th>1</th>\n",
       "      <td>2019-02</td>\n",
       "      <td>252</td>\n",
       "    </tr>\n",
       "    <tr>\n",
       "      <th>2</th>\n",
       "      <td>2019-03</td>\n",
       "      <td>307</td>\n",
       "    </tr>\n",
       "    <tr>\n",
       "      <th>3</th>\n",
       "      <td>2019-04</td>\n",
       "      <td>296</td>\n",
       "    </tr>\n",
       "    <tr>\n",
       "      <th>4</th>\n",
       "      <td>2019-05</td>\n",
       "      <td>230</td>\n",
       "    </tr>\n",
       "  </tbody>\n",
       "</table>\n",
       "</div>"
      ],
      "text/plain": [
       "  Date début  Number of Orders\n",
       "0    2019-01               399\n",
       "1    2019-02               252\n",
       "2    2019-03               307\n",
       "3    2019-04               296\n",
       "4    2019-05               230"
      ]
     },
     "execution_count": 4,
     "metadata": {},
     "output_type": "execute_result"
    }
   ],
   "source": [
    "df1 = df.groupby(df['Date début'].dt.to_period(\"M\")).size().reset_index(name='Number of Orders')\n",
    "df1.head()"
   ]
  },
  {
   "cell_type": "code",
   "execution_count": 5,
   "id": "b8b7d607",
   "metadata": {
    "scrolled": true
   },
   "outputs": [],
   "source": [
    "df1.to_csv('nombre_depanes_par_mois.csv', index=False, encoding='latin-1',sep=\";\") \n",
    "\n"
   ]
  },
  {
   "cell_type": "code",
   "execution_count": 6,
   "id": "7d29c6ab",
   "metadata": {},
   "outputs": [],
   "source": [
    "df=pd.read_csv('./nombre_depanes_par_mois.csv', encoding='latin-1',sep=\";\")"
   ]
  },
  {
   "cell_type": "code",
   "execution_count": 7,
   "id": "3f413056",
   "metadata": {},
   "outputs": [],
   "source": [
    "df['Date début'] = pd.to_datetime(df['Date début'], format='%Y-%m')"
   ]
  },
  {
   "cell_type": "code",
   "execution_count": 8,
   "id": "d4aa7416",
   "metadata": {},
   "outputs": [
    {
     "name": "stdout",
     "output_type": "stream",
     "text": [
      "<class 'pandas.core.frame.DataFrame'>\n",
      "RangeIndex: 39 entries, 0 to 38\n",
      "Data columns (total 2 columns):\n",
      " #   Column            Non-Null Count  Dtype         \n",
      "---  ------            --------------  -----         \n",
      " 0   Date début        39 non-null     datetime64[ns]\n",
      " 1   Number of Orders  39 non-null     int64         \n",
      "dtypes: datetime64[ns](1), int64(1)\n",
      "memory usage: 752.0 bytes\n"
     ]
    }
   ],
   "source": [
    "df.info()"
   ]
  },
  {
   "cell_type": "code",
   "execution_count": 9,
   "id": "1ff15869",
   "metadata": {},
   "outputs": [
    {
     "data": {
      "text/html": [
       "<div>\n",
       "<style scoped>\n",
       "    .dataframe tbody tr th:only-of-type {\n",
       "        vertical-align: middle;\n",
       "    }\n",
       "\n",
       "    .dataframe tbody tr th {\n",
       "        vertical-align: top;\n",
       "    }\n",
       "\n",
       "    .dataframe thead th {\n",
       "        text-align: right;\n",
       "    }\n",
       "</style>\n",
       "<table border=\"1\" class=\"dataframe\">\n",
       "  <thead>\n",
       "    <tr style=\"text-align: right;\">\n",
       "      <th></th>\n",
       "      <th>Number of Orders</th>\n",
       "    </tr>\n",
       "    <tr>\n",
       "      <th>Date début</th>\n",
       "      <th></th>\n",
       "    </tr>\n",
       "  </thead>\n",
       "  <tbody>\n",
       "    <tr>\n",
       "      <th>2019-01-01</th>\n",
       "      <td>399</td>\n",
       "    </tr>\n",
       "    <tr>\n",
       "      <th>2019-02-01</th>\n",
       "      <td>252</td>\n",
       "    </tr>\n",
       "    <tr>\n",
       "      <th>2019-03-01</th>\n",
       "      <td>307</td>\n",
       "    </tr>\n",
       "    <tr>\n",
       "      <th>2019-04-01</th>\n",
       "      <td>296</td>\n",
       "    </tr>\n",
       "    <tr>\n",
       "      <th>2019-05-01</th>\n",
       "      <td>230</td>\n",
       "    </tr>\n",
       "  </tbody>\n",
       "</table>\n",
       "</div>"
      ],
      "text/plain": [
       "            Number of Orders\n",
       "Date début                  \n",
       "2019-01-01               399\n",
       "2019-02-01               252\n",
       "2019-03-01               307\n",
       "2019-04-01               296\n",
       "2019-05-01               230"
      ]
     },
     "execution_count": 9,
     "metadata": {},
     "output_type": "execute_result"
    }
   ],
   "source": [
    "df.index = df['Date début']\n",
    "del df['Date début']\n",
    "df.head()\n"
   ]
  },
  {
   "cell_type": "code",
   "execution_count": 10,
   "id": "b7a17dea",
   "metadata": {},
   "outputs": [
    {
     "data": {
      "text/html": [
       "<div>\n",
       "<style scoped>\n",
       "    .dataframe tbody tr th:only-of-type {\n",
       "        vertical-align: middle;\n",
       "    }\n",
       "\n",
       "    .dataframe tbody tr th {\n",
       "        vertical-align: top;\n",
       "    }\n",
       "\n",
       "    .dataframe thead th {\n",
       "        text-align: right;\n",
       "    }\n",
       "</style>\n",
       "<table border=\"1\" class=\"dataframe\">\n",
       "  <thead>\n",
       "    <tr style=\"text-align: right;\">\n",
       "      <th></th>\n",
       "      <th>Number of Orders</th>\n",
       "    </tr>\n",
       "    <tr>\n",
       "      <th>Date début</th>\n",
       "      <th></th>\n",
       "    </tr>\n",
       "  </thead>\n",
       "  <tbody>\n",
       "    <tr>\n",
       "      <th>2021-11-01</th>\n",
       "      <td>296</td>\n",
       "    </tr>\n",
       "    <tr>\n",
       "      <th>2021-12-01</th>\n",
       "      <td>305</td>\n",
       "    </tr>\n",
       "    <tr>\n",
       "      <th>2022-01-01</th>\n",
       "      <td>230</td>\n",
       "    </tr>\n",
       "    <tr>\n",
       "      <th>2022-02-01</th>\n",
       "      <td>232</td>\n",
       "    </tr>\n",
       "    <tr>\n",
       "      <th>2022-03-01</th>\n",
       "      <td>34</td>\n",
       "    </tr>\n",
       "  </tbody>\n",
       "</table>\n",
       "</div>"
      ],
      "text/plain": [
       "            Number of Orders\n",
       "Date début                  \n",
       "2021-11-01               296\n",
       "2021-12-01               305\n",
       "2022-01-01               230\n",
       "2022-02-01               232\n",
       "2022-03-01                34"
      ]
     },
     "execution_count": 10,
     "metadata": {},
     "output_type": "execute_result"
    }
   ],
   "source": [
    "df.tail()"
   ]
  },
  {
   "cell_type": "code",
   "execution_count": 11,
   "id": "c04af393",
   "metadata": {
    "scrolled": false
   },
   "outputs": [
    {
     "data": {
      "text/plain": [
       "<AxesSubplot:xlabel='Date début', ylabel='Number of Orders'>"
      ]
     },
     "execution_count": 11,
     "metadata": {},
     "output_type": "execute_result"
    },
    {
     "data": {
      "image/png": "[encoded data removed]",
      "text/plain": [
       "<Figure size 864x720 with 1 Axes>"
      ]
     },
     "metadata": {
      "needs_background": "light"
     },
     "output_type": "display_data"
    }
   ],
   "source": [
    "plt.figure(figsize=(12, 10))\n",
    "sns.lineplot(data=df, x=df.index, y=df['Number of Orders'], linewidth=4)\n",
    "\n"
   ]
  },
  {
   "cell_type": "code",
   "execution_count": 12,
   "id": "6bcc3813",
   "metadata": {},
   "outputs": [
    {
     "data": {
      "text/html": [
       "<div>\n",
       "<style scoped>\n",
       "    .dataframe tbody tr th:only-of-type {\n",
       "        vertical-align: middle;\n",
       "    }\n",
       "\n",
       "    .dataframe tbody tr th {\n",
       "        vertical-align: top;\n",
       "    }\n",
       "\n",
       "    .dataframe thead th {\n",
       "        text-align: right;\n",
       "    }\n",
       "</style>\n",
       "<table border=\"1\" class=\"dataframe\">\n",
       "  <thead>\n",
       "    <tr style=\"text-align: right;\">\n",
       "      <th></th>\n",
       "      <th>Number of Orders</th>\n",
       "    </tr>\n",
       "    <tr>\n",
       "      <th>Date début</th>\n",
       "      <th></th>\n",
       "    </tr>\n",
       "  </thead>\n",
       "  <tbody>\n",
       "    <tr>\n",
       "      <th>2019-01-01</th>\n",
       "      <td>399</td>\n",
       "    </tr>\n",
       "    <tr>\n",
       "      <th>2019-02-01</th>\n",
       "      <td>252</td>\n",
       "    </tr>\n",
       "    <tr>\n",
       "      <th>2019-03-01</th>\n",
       "      <td>307</td>\n",
       "    </tr>\n",
       "    <tr>\n",
       "      <th>2019-04-01</th>\n",
       "      <td>296</td>\n",
       "    </tr>\n",
       "    <tr>\n",
       "      <th>2019-05-01</th>\n",
       "      <td>230</td>\n",
       "    </tr>\n",
       "  </tbody>\n",
       "</table>\n",
       "</div>"
      ],
      "text/plain": [
       "            Number of Orders\n",
       "Date début                  \n",
       "2019-01-01               399\n",
       "2019-02-01               252\n",
       "2019-03-01               307\n",
       "2019-04-01               296\n",
       "2019-05-01               230"
      ]
     },
     "execution_count": 12,
     "metadata": {},
     "output_type": "execute_result"
    }
   ],
   "source": [
    "df.head()"
   ]
  },
  {
   "cell_type": "code",
   "execution_count": 13,
   "id": "b7cf6824",
   "metadata": {},
   "outputs": [
    {
     "data": {
      "text/html": [
       "<div>\n",
       "<style scoped>\n",
       "    .dataframe tbody tr th:only-of-type {\n",
       "        vertical-align: middle;\n",
       "    }\n",
       "\n",
       "    .dataframe tbody tr th {\n",
       "        vertical-align: top;\n",
       "    }\n",
       "\n",
       "    .dataframe thead th {\n",
       "        text-align: right;\n",
       "    }\n",
       "</style>\n",
       "<table border=\"1\" class=\"dataframe\">\n",
       "  <thead>\n",
       "    <tr style=\"text-align: right;\">\n",
       "      <th></th>\n",
       "      <th>Number of Orders</th>\n",
       "    </tr>\n",
       "    <tr>\n",
       "      <th>Date début</th>\n",
       "      <th></th>\n",
       "    </tr>\n",
       "  </thead>\n",
       "  <tbody>\n",
       "    <tr>\n",
       "      <th>2021-11-01</th>\n",
       "      <td>296</td>\n",
       "    </tr>\n",
       "    <tr>\n",
       "      <th>2021-12-01</th>\n",
       "      <td>305</td>\n",
       "    </tr>\n",
       "    <tr>\n",
       "      <th>2022-01-01</th>\n",
       "      <td>230</td>\n",
       "    </tr>\n",
       "    <tr>\n",
       "      <th>2022-02-01</th>\n",
       "      <td>232</td>\n",
       "    </tr>\n",
       "    <tr>\n",
       "      <th>2022-03-01</th>\n",
       "      <td>34</td>\n",
       "    </tr>\n",
       "  </tbody>\n",
       "</table>\n",
       "</div>"
      ],
      "text/plain": [
       "            Number of Orders\n",
       "Date début                  \n",
       "2021-11-01               296\n",
       "2021-12-01               305\n",
       "2022-01-01               230\n",
       "2022-02-01               232\n",
       "2022-03-01                34"
      ]
     },
     "execution_count": 13,
     "metadata": {},
     "output_type": "execute_result"
    }
   ],
   "source": [
    "df.tail()"
   ]
  },
  {
   "cell_type": "code",
   "execution_count": 14,
   "id": "f037dd69",
   "metadata": {},
   "outputs": [],
   "source": [
    "msk=(df.index <'2021-07-30')\n",
    "df_train=df[msk].copy()\n",
    "df_test=df[~msk].copy()"
   ]
  },
  {
   "cell_type": "code",
   "execution_count": 15,
   "id": "cd28c257",
   "metadata": {},
   "outputs": [
    {
     "data": {
      "image/png": "[encoded data removed]",
      "text/plain": [
       "<Figure size 432x288 with 1 Axes>"
      ]
     },
     "metadata": {
      "needs_background": "light"
     },
     "output_type": "display_data"
    },
    {
     "data": {
      "image/png": "[encoded data removed]",
      "text/plain": [
       "<Figure size 432x288 with 1 Axes>"
      ]
     },
     "metadata": {
      "needs_background": "light"
     },
     "output_type": "display_data"
    }
   ],
   "source": [
    "from statsmodels.graphics.tsaplots import plot_acf, plot_pacf\n",
    "\n",
    "acf_original = plot_acf(df_train)\n",
    "\n",
    "pacf_original = plot_pacf(df_train)"
   ]
  },
  {
   "cell_type": "code",
   "execution_count": 16,
   "id": "962b7320",
   "metadata": {},
   "outputs": [
    {
     "name": "stdout",
     "output_type": "stream",
     "text": [
      "p-value: 0.3529588508349232\n"
     ]
    }
   ],
   "source": [
    "from statsmodels.tsa.stattools import adfuller #ADF TEST palue below 0.05 \n",
    "adf_test = adfuller(df_train)\n",
    "print(f'p-value: {adf_test[1]}')"
   ]
  },
  {
   "cell_type": "code",
   "execution_count": 17,
   "id": "f9936a3b",
   "metadata": {},
   "outputs": [
    {
     "data": {
      "text/plain": [
       "ARIMA(order=(5, 1, 0), scoring_args={}, suppress_warnings=True)"
      ]
     },
     "execution_count": 17,
     "metadata": {},
     "output_type": "execute_result"
    }
   ],
   "source": [
    "import pmdarima as pm\n",
    "auto_arima = pm.auto_arima(df_train, stepwise=False, seasonal=False)\n",
    "auto_arima"
   ]
  },
  {
   "cell_type": "code",
   "execution_count": 18,
   "id": "ca74b657",
   "metadata": {},
   "outputs": [
    {
     "data": {
      "text/html": [
       "<table class=\"simpletable\">\n",
       "<caption>SARIMAX Results</caption>\n",
       "<tr>\n",
       "  <th>Dep. Variable:</th>           <td>y</td>        <th>  No. Observations:  </th>    <td>31</td>   \n",
       "</tr>\n",
       "<tr>\n",
       "  <th>Model:</th>           <td>SARIMAX(5, 1, 0)</td> <th>  Log Likelihood     </th> <td>-153.177</td>\n",
       "</tr>\n",
       "<tr>\n",
       "  <th>Date:</th>            <td>Fri, 24 May 2024</td> <th>  AIC                </th>  <td>320.354</td>\n",
       "</tr>\n",
       "<tr>\n",
       "  <th>Time:</th>                <td>14:15:24</td>     <th>  BIC                </th>  <td>330.162</td>\n",
       "</tr>\n",
       "<tr>\n",
       "  <th>Sample:</th>             <td>01-01-2019</td>    <th>  HQIC               </th>  <td>323.491</td>\n",
       "</tr>\n",
       "<tr>\n",
       "  <th></th>                   <td>- 07-01-2021</td>   <th>                     </th>     <td> </td>   \n",
       "</tr>\n",
       "<tr>\n",
       "  <th>Covariance Type:</th>        <td>opg</td>       <th>                     </th>     <td> </td>   \n",
       "</tr>\n",
       "</table>\n",
       "<table class=\"simpletable\">\n",
       "<tr>\n",
       "      <td></td>         <th>coef</th>     <th>std err</th>      <th>z</th>      <th>P>|z|</th>  <th>[0.025</th>    <th>0.975]</th>  \n",
       "</tr>\n",
       "<tr>\n",
       "  <th>intercept</th> <td>   -6.7375</td> <td>    8.930</td> <td>   -0.755</td> <td> 0.451</td> <td>  -24.239</td> <td>   10.764</td>\n",
       "</tr>\n",
       "<tr>\n",
       "  <th>ar.L1</th>     <td>   -0.5979</td> <td>    0.222</td> <td>   -2.695</td> <td> 0.007</td> <td>   -1.033</td> <td>   -0.163</td>\n",
       "</tr>\n",
       "<tr>\n",
       "  <th>ar.L2</th>     <td>   -0.3038</td> <td>    0.288</td> <td>   -1.056</td> <td> 0.291</td> <td>   -0.868</td> <td>    0.260</td>\n",
       "</tr>\n",
       "<tr>\n",
       "  <th>ar.L3</th>     <td>   -0.0517</td> <td>    0.324</td> <td>   -0.160</td> <td> 0.873</td> <td>   -0.687</td> <td>    0.583</td>\n",
       "</tr>\n",
       "<tr>\n",
       "  <th>ar.L4</th>     <td>    0.0862</td> <td>    0.264</td> <td>    0.327</td> <td> 0.744</td> <td>   -0.431</td> <td>    0.604</td>\n",
       "</tr>\n",
       "<tr>\n",
       "  <th>ar.L5</th>     <td>   -0.4058</td> <td>    0.236</td> <td>   -1.716</td> <td> 0.086</td> <td>   -0.869</td> <td>    0.058</td>\n",
       "</tr>\n",
       "<tr>\n",
       "  <th>sigma2</th>    <td> 1472.4616</td> <td>  608.243</td> <td>    2.421</td> <td> 0.015</td> <td>  280.327</td> <td> 2664.596</td>\n",
       "</tr>\n",
       "</table>\n",
       "<table class=\"simpletable\">\n",
       "<tr>\n",
       "  <th>Ljung-Box (L1) (Q):</th>     <td>0.02</td> <th>  Jarque-Bera (JB):  </th> <td>0.56</td> \n",
       "</tr>\n",
       "<tr>\n",
       "  <th>Prob(Q):</th>                <td>0.89</td> <th>  Prob(JB):          </th> <td>0.76</td> \n",
       "</tr>\n",
       "<tr>\n",
       "  <th>Heteroskedasticity (H):</th> <td>0.32</td> <th>  Skew:              </th> <td>-0.17</td>\n",
       "</tr>\n",
       "<tr>\n",
       "  <th>Prob(H) (two-sided):</th>    <td>0.09</td> <th>  Kurtosis:          </th> <td>2.43</td> \n",
       "</tr>\n",
       "</table><br/><br/>Warnings:<br/>[1] Covariance matrix calculated using the outer product of gradients (complex-step)."
      ],
      "text/latex": [
       "\\begin{center}\n",
       "\\begin{tabular}{lclc}\n",
       "\\toprule\n",
       "\\textbf{Dep. Variable:}          &        y         & \\textbf{  No. Observations:  } &     31      \\\\\n",
       "\\textbf{Model:}                  & SARIMAX(5, 1, 0) & \\textbf{  Log Likelihood     } &  -153.177   \\\\\n",
       "\\textbf{Date:}                   & Fri, 24 May 2024 & \\textbf{  AIC                } &  320.354    \\\\\n",
       "\\textbf{Time:}                   &     14:15:24     & \\textbf{  BIC                } &  330.162    \\\\\n",
       "\\textbf{Sample:}                 &    01-01-2019    & \\textbf{  HQIC               } &  323.491    \\\\\n",
       "\\textbf{}                        &   - 07-01-2021   & \\textbf{                     } &             \\\\\n",
       "\\textbf{Covariance Type:}        &       opg        & \\textbf{                     } &             \\\\\n",
       "\\bottomrule\n",
       "\\end{tabular}\n",
       "\\begin{tabular}{lcccccc}\n",
       "                   & \\textbf{coef} & \\textbf{std err} & \\textbf{z} & \\textbf{P$> |$z$|$} & \\textbf{[0.025} & \\textbf{0.975]}  \\\\\n",
       "\\midrule\n",
       "\\textbf{intercept} &      -6.7375  &        8.930     &    -0.755  &         0.451        &      -24.239    &       10.764     \\\\\n",
       "\\textbf{ar.L1}     &      -0.5979  &        0.222     &    -2.695  &         0.007        &       -1.033    &       -0.163     \\\\\n",
       "\\textbf{ar.L2}     &      -0.3038  &        0.288     &    -1.056  &         0.291        &       -0.868    &        0.260     \\\\\n",
       "\\textbf{ar.L3}     &      -0.0517  &        0.324     &    -0.160  &         0.873        &       -0.687    &        0.583     \\\\\n",
       "\\textbf{ar.L4}     &       0.0862  &        0.264     &     0.327  &         0.744        &       -0.431    &        0.604     \\\\\n",
       "\\textbf{ar.L5}     &      -0.4058  &        0.236     &    -1.716  &         0.086        &       -0.869    &        0.058     \\\\\n",
       "\\textbf{sigma2}    &    1472.4616  &      608.243     &     2.421  &         0.015        &      280.327    &     2664.596     \\\\\n",
       "\\bottomrule\n",
       "\\end{tabular}\n",
       "\\begin{tabular}{lclc}\n",
       "\\textbf{Ljung-Box (L1) (Q):}     & 0.02 & \\textbf{  Jarque-Bera (JB):  } &  0.56  \\\\\n",
       "\\textbf{Prob(Q):}                & 0.89 & \\textbf{  Prob(JB):          } &  0.76  \\\\\n",
       "\\textbf{Heteroskedasticity (H):} & 0.32 & \\textbf{  Skew:              } & -0.17  \\\\\n",
       "\\textbf{Prob(H) (two-sided):}    & 0.09 & \\textbf{  Kurtosis:          } &  2.43  \\\\\n",
       "\\bottomrule\n",
       "\\end{tabular}\n",
       "%\\caption{SARIMAX Results}\n",
       "\\end{center}\n",
       "\n",
       "Warnings: \\newline\n",
       " [1] Covariance matrix calculated using the outer product of gradients (complex-step)."
      ],
      "text/plain": [
       "<class 'statsmodels.iolib.summary.Summary'>\n",
       "\"\"\"\n",
       "                               SARIMAX Results                                \n",
       "==============================================================================\n",
       "Dep. Variable:                      y   No. Observations:                   31\n",
       "Model:               SARIMAX(5, 1, 0)   Log Likelihood                -153.177\n",
       "Date:                Fri, 24 May 2024   AIC                            320.354\n",
       "Time:                        14:15:24   BIC                            330.162\n",
       "Sample:                    01-01-2019   HQIC                           323.491\n",
       "                         - 07-01-2021                                         \n",
       "Covariance Type:                  opg                                         \n",
       "==============================================================================\n",
       "                 coef    std err          z      P>|z|      [0.025      0.975]\n",
       "------------------------------------------------------------------------------\n",
       "intercept     -6.7375      8.930     -0.755      0.451     -24.239      10.764\n",
       "ar.L1         -0.5979      0.222     -2.695      0.007      -1.033      -0.163\n",
       "ar.L2         -0.3038      0.288     -1.056      0.291      -0.868       0.260\n",
       "ar.L3         -0.0517      0.324     -0.160      0.873      -0.687       0.583\n",
       "ar.L4          0.0862      0.264      0.327      0.744      -0.431       0.604\n",
       "ar.L5         -0.4058      0.236     -1.716      0.086      -0.869       0.058\n",
       "sigma2      1472.4616    608.243      2.421      0.015     280.327    2664.596\n",
       "===================================================================================\n",
       "Ljung-Box (L1) (Q):                   0.02   Jarque-Bera (JB):                 0.56\n",
       "Prob(Q):                              0.89   Prob(JB):                         0.76\n",
       "Heteroskedasticity (H):               0.32   Skew:                            -0.17\n",
       "Prob(H) (two-sided):                  0.09   Kurtosis:                         2.43\n",
       "===================================================================================\n",
       "\n",
       "Warnings:\n",
       "[1] Covariance matrix calculated using the outer product of gradients (complex-step).\n",
       "\"\"\""
      ]
     },
     "execution_count": 18,
     "metadata": {},
     "output_type": "execute_result"
    }
   ],
   "source": [
    "auto_arima.summary()"
   ]
  },
  {
   "cell_type": "code",
   "execution_count": 19,
   "id": "542b9b15",
   "metadata": {},
   "outputs": [
    {
     "data": {
      "text/plain": [
       "<AxesSubplot:xlabel='Date début'>"
      ]
     },
     "execution_count": 19,
     "metadata": {},
     "output_type": "execute_result"
    },
    {
     "data": {
      "image/png": "[encoded data removed]",
      "text/plain": [
       "<Figure size 432x288 with 1 Axes>"
      ]
     },
     "metadata": {
      "needs_background": "light"
     },
     "output_type": "display_data"
    }
   ],
   "source": [
    "forecast_test_auto = auto_arima.predict(n_periods=len(df_test))\n",
    "df['forecast_auto'] = [None]*len(df_train) + list(forecast_test_auto)\n",
    "\n",
    "df.plot()"
   ]
  },
  {
   "cell_type": "code",
   "execution_count": 20,
   "id": "4ef657f1",
   "metadata": {},
   "outputs": [],
   "source": [
    "sarima= pm.auto_arima(df_train, m=12)"
   ]
  },
  {
   "cell_type": "code",
   "execution_count": 21,
   "id": "c352fca5",
   "metadata": {},
   "outputs": [
    {
     "data": {
      "text/plain": [
       "ARIMA(order=(5, 1, 0), scoring_args={}, seasonal_order=(0, 0, 1, 12),\n",
       "      suppress_warnings=True, with_intercept=False)"
      ]
     },
     "execution_count": 21,
     "metadata": {},
     "output_type": "execute_result"
    }
   ],
   "source": [
    "sarima"
   ]
  },
  {
   "cell_type": "code",
   "execution_count": 22,
   "id": "51c14a7e",
   "metadata": {},
   "outputs": [
    {
     "data": {
      "text/plain": [
       "<AxesSubplot:xlabel='Date début'>"
      ]
     },
     "execution_count": 22,
     "metadata": {},
     "output_type": "execute_result"
    },
    {
     "data": {
      "image/png": "[encoded data removed]",
      "text/plain": [
       "<Figure size 432x288 with 1 Axes>"
      ]
     },
     "metadata": {
      "needs_background": "light"
     },
     "output_type": "display_data"
    }
   ],
   "source": [
    "forecast_sarima = sarima.predict(n_periods=len(df_test))\n",
    "df['forecast_sarima'] = [None]*len(df_train) + list(forecast_sarima)\n",
    "\n",
    "df.plot()"
   ]
  },
  {
   "cell_type": "code",
   "execution_count": 24,
   "id": "0ded4301",
   "metadata": {},
   "outputs": [
    {
     "name": "stdout",
     "output_type": "stream",
     "text": [
      "mae - auto: 65.16824955063615\n",
      "r2- auto: 0.054941010400665014\n",
      "rmse - auto: 83.16631357456828\n"
     ]
    }
   ],
   "source": [
    "from sklearn.metrics import mean_absolute_error, r2_score, mean_squared_error\n",
    "mae = mean_absolute_error(df_test, forecast_test_auto)\n",
    "r2 = r2_score(df_test, forecast_test_auto)\n",
    "rmse = np.sqrt(mean_squared_error(df_test, forecast_test_auto))\n",
    "\n",
    "print(f'mae - auto: {mae}')\n",
    "print(f'r2- auto: {r2}')\n",
    "print(f'rmse - auto: {rmse}')"
   ]
  },
  {
   "cell_type": "code",
   "execution_count": 25,
   "id": "37d79ed3",
   "metadata": {},
   "outputs": [
    {
     "name": "stdout",
     "output_type": "stream",
     "text": [
      "mae - auto: 68.32669702883967\n",
      "r2 - auto: -0.08310997566562928\n",
      "rmse - auto: 89.03366897308824\n"
     ]
    }
   ],
   "source": [
    "mae = mean_absolute_error(df_test, forecast_sarima)\n",
    "r2 = r2_score(df_test, forecast_sarima)\n",
    "rmse = np.sqrt(mean_squared_error(df_test, forecast_sarima))\n",
    "\n",
    "print(f'mae - auto: {mae}')\n",
    "print(f'r2 - auto: {r2}')\n",
    "print(f'rmse - auto: {rmse}')"
   ]
  },
  {
   "cell_type": "code",
   "execution_count": null,
   "id": "2e99bfd9",
   "metadata": {},
   "outputs": [],
   "source": []
  }
 ],
 "metadata": {
  "kernelspec": {
   "display_name": "Python 3 (ipykernel)",
   "language": "python",
   "name": "python3"
  },
  "language_info": {
   "codemirror_mode": {
    "name": "ipython",
    "version": 3
   },
   "file_extension": ".py",
   "mimetype": "text/x-python",
   "name": "python",
   "nbconvert_exporter": "python",
   "pygments_lexer": "ipython3",
   "version": "3.9.7"
  }
 },
 "nbformat": 4,
 "nbformat_minor": 5
}
